{
  "nbformat": 4,
  "nbformat_minor": 0,
  "metadata": {
    "colab": {
      "name": "ML_Assignment5_Sudhanshu.ipynb",
      "provenance": [],
      "collapsed_sections": []
    },
    "kernelspec": {
      "display_name": "Python 3",
      "name": "python3"
    }
  },
  "cells": [
    {
      "cell_type": "markdown",
      "metadata": {
        "id": "xuMo3IJvzQ83"
      },
      "source": [
        "**Aditya Ranaut**\n",
        "\n",
        "**101916012**\n",
        "\n",
        "**ML Assignment 5**\n"
      ]
    },
    {
      "cell_type": "code",
      "metadata": {
        "id": "YKEz7v-MohpR"
      },
      "source": [
        "import pandas as pd\n",
        "import numpy as np\n",
        "from sklearn.linear_model import LinearRegression\n"
      ],
      "execution_count": null,
      "outputs": []
    },
    {
      "cell_type": "code",
      "metadata": {
        "id": "G15JkIDJqfCH"
      },
      "source": [
        "df=pd.read_csv(\"adi2.csv\")"
      ],
      "execution_count": null,
      "outputs": []
    },
    {
      "cell_type": "code",
      "metadata": {
        "id": "wtFkYPZwrqRY",
        "colab": {
          "base_uri": "https://localhost:8080/"
        },
        "outputId": "a1b177bc-a480-4bb5-d5ff-8e75656b4cf7"
      },
      "source": [
        "print(df)"
      ],
      "execution_count": null,
      "outputs": [
        {
          "output_type": "stream",
          "name": "stdout",
          "text": [
            "   Square Feet\\n(X)  House Price in $1000s\\n(Y)\n",
            "0              1400                         245\n",
            "1              1600                         312\n",
            "2              1700                         279\n",
            "3              1875                         308\n",
            "4              1100                         199\n",
            "5              1550                         219\n",
            "6              2350                         405\n",
            "7              2450                         324\n",
            "8              1425                         319\n",
            "9              1700                         255\n"
          ]
        }
      ]
    },
    {
      "cell_type": "code",
      "metadata": {
        "id": "qH7J76S6rtQX",
        "colab": {
          "base_uri": "https://localhost:8080/"
        },
        "outputId": "fc6b2ba6-da40-4668-c775-4ded73434823"
      },
      "source": [
        "X = df.iloc[:, :-1].values\n",
        "print(X)"
      ],
      "execution_count": null,
      "outputs": [
        {
          "output_type": "stream",
          "name": "stdout",
          "text": [
            "[[1400]\n",
            " [1600]\n",
            " [1700]\n",
            " [1875]\n",
            " [1100]\n",
            " [1550]\n",
            " [2350]\n",
            " [2450]\n",
            " [1425]\n",
            " [1700]]\n"
          ]
        }
      ]
    },
    {
      "cell_type": "code",
      "metadata": {
        "id": "r6yDzWDptERX",
        "colab": {
          "base_uri": "https://localhost:8080/"
        },
        "outputId": "c6731b5e-f18b-4240-f51c-a5c54db562f2"
      },
      "source": [
        "Y = df.iloc[:, -1].values\n",
        "print(Y)"
      ],
      "execution_count": null,
      "outputs": [
        {
          "output_type": "stream",
          "name": "stdout",
          "text": [
            "[245 312 279 308 199 219 405 324 319 255]\n"
          ]
        }
      ]
    },
    {
      "cell_type": "code",
      "metadata": {
        "id": "LmQgOWYatGvv"
      },
      "source": [
        "reg = LinearRegression()"
      ],
      "execution_count": null,
      "outputs": []
    },
    {
      "cell_type": "code",
      "metadata": {
        "id": "j4sAXpAIt8YQ",
        "colab": {
          "base_uri": "https://localhost:8080/"
        },
        "outputId": "83ff5659-8009-4346-9c88-79216e958397"
      },
      "source": [
        "reg.fit(X,Y)"
      ],
      "execution_count": null,
      "outputs": [
        {
          "output_type": "execute_result",
          "data": {
            "text/plain": [
              "LinearRegression(copy_X=True, fit_intercept=True, n_jobs=None, normalize=False)"
            ]
          },
          "metadata": {},
          "execution_count": 48
        }
      ]
    },
    {
      "cell_type": "code",
      "metadata": {
        "id": "hKt8pVY7uIfj",
        "colab": {
          "base_uri": "https://localhost:8080/"
        },
        "outputId": "ba2a7a49-442a-45dd-b052-cf5eacd0189b"
      },
      "source": [
        "print('Coefficients: ', reg.coef_)"
      ],
      "execution_count": null,
      "outputs": [
        {
          "output_type": "stream",
          "name": "stdout",
          "text": [
            "Coefficients:  [0.10976774]\n"
          ]
        }
      ]
    },
    {
      "cell_type": "code",
      "metadata": {
        "id": "SaIku7pRuK2b",
        "colab": {
          "base_uri": "https://localhost:8080/"
        },
        "outputId": "f4d049b3-8bde-49f2-9562-f029d355276b"
      },
      "source": [
        "print(reg.predict([[3000]]))"
      ],
      "execution_count": null,
      "outputs": [
        {
          "output_type": "stream",
          "name": "stdout",
          "text": [
            "[427.55154311]\n"
          ]
        }
      ]
    },
    {
      "cell_type": "code",
      "metadata": {
        "id": "LzZCm1MtuNer",
        "colab": {
          "base_uri": "https://localhost:8080/"
        },
        "outputId": "3b608987-2db8-4646-bcfe-e90f6b4ad767"
      },
      "source": [
        "print(reg.predict([[2000]]))"
      ],
      "execution_count": null,
      "outputs": [
        {
          "output_type": "stream",
          "name": "stdout",
          "text": [
            "[317.78380528]\n"
          ]
        }
      ]
    },
    {
      "cell_type": "code",
      "metadata": {
        "id": "KgjxNdrKubZI",
        "colab": {
          "base_uri": "https://localhost:8080/"
        },
        "outputId": "e2437b17-5d99-40ea-9429-256d745e9977"
      },
      "source": [
        "print(reg.predict([[1500]]))"
      ],
      "execution_count": null,
      "outputs": [
        {
          "output_type": "stream",
          "name": "stdout",
          "text": [
            "[262.89993637]\n"
          ]
        }
      ]
    },
    {
      "cell_type": "code",
      "metadata": {
        "id": "bwf6MYtQudhg"
      },
      "source": [
        "df2=pd.read_csv(\"adi1.csv\")"
      ],
      "execution_count": null,
      "outputs": []
    },
    {
      "cell_type": "code",
      "metadata": {
        "colab": {
          "base_uri": "https://localhost:8080/"
        },
        "id": "1yoO38sAvQXP",
        "outputId": "60a21716-86b4-4e3a-ef84-7e9e47c1b131"
      },
      "source": [
        "print(df2)"
      ],
      "execution_count": null,
      "outputs": [
        {
          "output_type": "stream",
          "name": "stdout",
          "text": [
            "    Year  Month  lnterest_Rate  Unemployment_Rate  Stock_lndex_Price\n",
            "0   2017     12           2.75                5.3               1464\n",
            "1   2017     11           2.50                5.3               1394\n",
            "2   2017     10           2.50                5.3               1357\n",
            "3   2017      9           2.50                5.3               1293\n",
            "4   2017      8           2.50                5.4               1256\n",
            "5   2017      7           2.50                5.6               1254\n",
            "6   2017      6           2.50                5.5               1234\n",
            "7   2017      5           2.25                5.5               1195\n",
            "8   2017      4           2.25                5.5               1159\n",
            "9   2017      3           2.25                5.6               1167\n",
            "10  2017      2           2.00                5.7               1130\n",
            "11  2017      1           2.00                5.9               1075\n",
            "12  2016     12           2.00                6.0               1047\n",
            "13  2016     11           1.75                5.9                965\n",
            "14  2016     10           1.75                5.8                943\n",
            "15  2016      9           1.75                6.1                958\n",
            "16  2016      8           1.75                6.2                971\n",
            "17  2016      7           1.75                6.1                949\n",
            "18  2016      6           1.75                6.1                884\n",
            "19  2016      5           1.75                6.1                866\n",
            "20  2016      4           1.75                5.9                876\n",
            "21  2016      3           1.75                6.2                822\n",
            "22  2016      2           1.75                6.2                704\n",
            "23  2016      1           1.75                6.1                719\n"
          ]
        }
      ]
    },
    {
      "cell_type": "code",
      "metadata": {
        "colab": {
          "base_uri": "https://localhost:8080/"
        },
        "id": "bnazKECNvSNW",
        "outputId": "e253b388-1608-48d7-c5a8-2f50e31c262f"
      },
      "source": [
        "X2 = df2.iloc[:, :-1].values\n",
        "print(X2)"
      ],
      "execution_count": null,
      "outputs": [
        {
          "output_type": "stream",
          "name": "stdout",
          "text": [
            "[[2.017e+03 1.200e+01 2.750e+00 5.300e+00]\n",
            " [2.017e+03 1.100e+01 2.500e+00 5.300e+00]\n",
            " [2.017e+03 1.000e+01 2.500e+00 5.300e+00]\n",
            " [2.017e+03 9.000e+00 2.500e+00 5.300e+00]\n",
            " [2.017e+03 8.000e+00 2.500e+00 5.400e+00]\n",
            " [2.017e+03 7.000e+00 2.500e+00 5.600e+00]\n",
            " [2.017e+03 6.000e+00 2.500e+00 5.500e+00]\n",
            " [2.017e+03 5.000e+00 2.250e+00 5.500e+00]\n",
            " [2.017e+03 4.000e+00 2.250e+00 5.500e+00]\n",
            " [2.017e+03 3.000e+00 2.250e+00 5.600e+00]\n",
            " [2.017e+03 2.000e+00 2.000e+00 5.700e+00]\n",
            " [2.017e+03 1.000e+00 2.000e+00 5.900e+00]\n",
            " [2.016e+03 1.200e+01 2.000e+00 6.000e+00]\n",
            " [2.016e+03 1.100e+01 1.750e+00 5.900e+00]\n",
            " [2.016e+03 1.000e+01 1.750e+00 5.800e+00]\n",
            " [2.016e+03 9.000e+00 1.750e+00 6.100e+00]\n",
            " [2.016e+03 8.000e+00 1.750e+00 6.200e+00]\n",
            " [2.016e+03 7.000e+00 1.750e+00 6.100e+00]\n",
            " [2.016e+03 6.000e+00 1.750e+00 6.100e+00]\n",
            " [2.016e+03 5.000e+00 1.750e+00 6.100e+00]\n",
            " [2.016e+03 4.000e+00 1.750e+00 5.900e+00]\n",
            " [2.016e+03 3.000e+00 1.750e+00 6.200e+00]\n",
            " [2.016e+03 2.000e+00 1.750e+00 6.200e+00]\n",
            " [2.016e+03 1.000e+00 1.750e+00 6.100e+00]]\n"
          ]
        }
      ]
    },
    {
      "cell_type": "code",
      "metadata": {
        "colab": {
          "base_uri": "https://localhost:8080/"
        },
        "id": "NJxWW4KkwHnn",
        "outputId": "1bd250fb-48b7-4898-a6d6-6012542ec50f"
      },
      "source": [
        "Y2 = df2.iloc[:, -1].values\n",
        "print(Y2)"
      ],
      "execution_count": null,
      "outputs": [
        {
          "output_type": "stream",
          "name": "stdout",
          "text": [
            "[1464 1394 1357 1293 1256 1254 1234 1195 1159 1167 1130 1075 1047  965\n",
            "  943  958  971  949  884  866  876  822  704  719]\n"
          ]
        }
      ]
    },
    {
      "cell_type": "code",
      "metadata": {
        "id": "YjrF8TvPwKYC"
      },
      "source": [
        "reg2 = LinearRegression()"
      ],
      "execution_count": null,
      "outputs": []
    },
    {
      "cell_type": "code",
      "metadata": {
        "colab": {
          "base_uri": "https://localhost:8080/"
        },
        "id": "1rU40TuXwOYy",
        "outputId": "d0bf441c-9a5f-4704-f097-927bcd446c13"
      },
      "source": [
        "reg2.fit(X2,Y2)"
      ],
      "execution_count": null,
      "outputs": [
        {
          "output_type": "execute_result",
          "data": {
            "text/plain": [
              "LinearRegression(copy_X=True, fit_intercept=True, n_jobs=None, normalize=False)"
            ]
          },
          "metadata": {},
          "execution_count": 60
        }
      ]
    },
    {
      "cell_type": "code",
      "metadata": {
        "colab": {
          "base_uri": "https://localhost:8080/"
        },
        "id": "6qL8jmEUwVcL",
        "outputId": "6cf44806-4734-44de-fda3-02e9055d5b65"
      },
      "source": [
        "print(reg2.predict([[2021,9,1.5,5.8]]))"
      ],
      "execution_count": null,
      "outputs": [
        {
          "output_type": "stream",
          "name": "stdout",
          "text": [
            "[2621.77182291]\n"
          ]
        }
      ]
    },
    {
      "cell_type": "code",
      "metadata": {
        "id": "LELi9AUuxA3S"
      },
      "source": [
        ""
      ],
      "execution_count": null,
      "outputs": []
    }
  ]
}
{
  "nbformat": 4,
  "nbformat_minor": 0,
  "metadata": {
    "colab": {
      "name": "PCA using EigenVectors.ipynb",
      "provenance": []
    },
    "kernelspec": {
      "name": "python3",
      "display_name": "Python 3"
    },
    "language_info": {
      "name": "python"
    }
  },
  "cells": [
    {
      "cell_type": "code",
      "metadata": {
        "colab": {
          "base_uri": "https://localhost:8080/"
        },
        "id": "FcT98Cq5lZWC",
        "outputId": "d388eb38-0fa1-449b-fb4f-f99d06a1d5c9"
      },
      "source": [
        "import numpy as np\n",
        "import math\n",
        "import statistics\n",
        "x = [4,8,13,7]\n",
        "y = [11,4,5,14]\n",
        "n= len(x)\n",
        "xm = statistics.mean(x)\n",
        "ym = statistics.mean(y)\n",
        "#print(x1m,x2m)\n",
        "xd=[]\n",
        "yd=[]\n",
        "for i in range(n):\n",
        "    xd.append(x[i]-xm)\n",
        "    yd.append(y[i]-ym)\n",
        "covxx=0\n",
        "covxy=0\n",
        "covyx=0\n",
        "covyy=0\n",
        "for i in range(n):\n",
        "    covxx=covxx+xd[i]*xd[i]\n",
        "    covxy=covxy+xd[i]*yd[i]\n",
        "    covyx=covyx+yd[i]*xd[i]\n",
        "    covyy=covyy+yd[i]*yd[i]\n",
        "covxx=covxx/(n-1)\n",
        "covxy=covxy/(n-1)\n",
        "covyx=covyx/(n-1)\n",
        "covyy=covyy/(n-1)\n",
        "#print(covxx, covxy, covyx, covyy)\n",
        "A = np.array([[covxx, covxy],[covyx, covyy]])\n",
        "eval, evec= np.linalg.eig(A)\n",
        "#print(eval)\n",
        "#print(evec)\n",
        "ind=0\n",
        "#print(len(eval))\n",
        "for i in range(len(eval)):\n",
        "  if(eval[i]>ind):\n",
        "    ind=i\n",
        "#print(ind) \n",
        "evec= np.array([evec[0][ind],evec[1][ind]])\n",
        "#print(evec)\n",
        "normal=0\n",
        "for i in range(len(evec)):\n",
        "  normal=normal+evec[i]*evec[i]\n",
        "  #print(normal)\n",
        "normal= math.sqrt(normal)\n",
        "#print(normal)\n",
        "for i in range(len(evec)):\n",
        "  evec[i]=evec[i]/normal\n",
        "\n",
        "checkX=[];\n",
        "checkY=[];\n",
        "for i in range(n):\n",
        "  checkX.append(x[i]-xm)\n",
        "  checkY.append(y[i]-ym)\n",
        "student=[]\n",
        "for i in range(n):\n",
        "  student.append(checkX[i]*evec[0]+ checkY[i]*evec[1])\n",
        "print(\"PCA1 for students \")\n",
        "for i in range(n):  \n",
        "  print(\"Student \",(i+1),\" -> \",student[i])\n",
        "\n"
      ],
      "execution_count": null,
      "outputs": [
        {
          "output_type": "stream",
          "text": [
            "PCA for students \n",
            "Student  1  ->  -4.305186922674707\n",
            "Student  2  ->  3.7361286866113304\n",
            "Student  3  ->  5.692827710560994\n",
            "Student  4  ->  -5.123769474497617\n"
          ],
          "name": "stdout"
        }
      ]
    }
  ]
}
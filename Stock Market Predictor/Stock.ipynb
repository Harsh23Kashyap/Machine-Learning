{
 "cells": [
  {
   "cell_type": "code",
   "execution_count": null,
   "id": "e0f51511-48be-4871-b2e8-787b723aa5c1",
   "metadata": {},
   "outputs": [],
   "source": [
    "pip install pandas_datareader\n"
   ]
  },
  {
   "cell_type": "code",
   "execution_count": 34,
   "id": "bbf04403-c61e-40bb-a517-b84b6edb5c2c",
   "metadata": {},
   "outputs": [],
   "source": [
    "import pandas as pd\n",
    "import numpy as np\n",
    "import matplotlib.pyplot as plt\n",
    "import pandas_datareader as data\n",
    "import plotly.express as px\n",
    "import streamlit as st\n",
    "import requests\n",
    "from streamlit_lottie import st_lottie"
   ]
  },
  {
   "cell_type": "code",
   "execution_count": 35,
   "id": "d0839bc4-2d5d-42bd-a8e7-e9766b1dd32b",
   "metadata": {},
   "outputs": [
    {
     "name": "stdout",
     "output_type": "stream",
     "text": [
      "Today is:  2022-01-08\n",
      "Yesterday was:  2022-01-07\n"
     ]
    }
   ],
   "source": [
    "from datetime import date\n",
    "from datetime import timedelta\n",
    "today = date.today()\n",
    "print(\"Today is: \", today)\n",
    " \n",
    "# Yesterday date\n",
    "yesterday = today - timedelta(days = 1)\n",
    "print(\"Yesterday was: \", yesterday)"
   ]
  },
  {
   "cell_type": "code",
   "execution_count": 36,
   "id": "25add0cc-c415-405d-9a46-8d1b7dc28aff",
   "metadata": {},
   "outputs": [
    {
     "data": {
      "text/html": [
       "<div>\n",
       "<style scoped>\n",
       "    .dataframe tbody tr th:only-of-type {\n",
       "        vertical-align: middle;\n",
       "    }\n",
       "\n",
       "    .dataframe tbody tr th {\n",
       "        vertical-align: top;\n",
       "    }\n",
       "\n",
       "    .dataframe thead th {\n",
       "        text-align: right;\n",
       "    }\n",
       "</style>\n",
       "<table border=\"1\" class=\"dataframe\">\n",
       "  <thead>\n",
       "    <tr style=\"text-align: right;\">\n",
       "      <th></th>\n",
       "      <th>High</th>\n",
       "      <th>Low</th>\n",
       "      <th>Open</th>\n",
       "      <th>Close</th>\n",
       "      <th>Volume</th>\n",
       "      <th>Adj Close</th>\n",
       "    </tr>\n",
       "    <tr>\n",
       "      <th>Date</th>\n",
       "      <th></th>\n",
       "      <th></th>\n",
       "      <th></th>\n",
       "      <th></th>\n",
       "      <th></th>\n",
       "      <th></th>\n",
       "    </tr>\n",
       "  </thead>\n",
       "  <tbody>\n",
       "    <tr>\n",
       "      <th>2007-12-31</th>\n",
       "      <td>7.160714</td>\n",
       "      <td>7.062500</td>\n",
       "      <td>7.125000</td>\n",
       "      <td>7.074286</td>\n",
       "      <td>5.393332e+08</td>\n",
       "      <td>6.065246</td>\n",
       "    </tr>\n",
       "    <tr>\n",
       "      <th>2008-01-02</th>\n",
       "      <td>7.152143</td>\n",
       "      <td>6.876786</td>\n",
       "      <td>7.116786</td>\n",
       "      <td>6.958571</td>\n",
       "      <td>1.079179e+09</td>\n",
       "      <td>5.966035</td>\n",
       "    </tr>\n",
       "    <tr>\n",
       "      <th>2008-01-03</th>\n",
       "      <td>7.049643</td>\n",
       "      <td>6.881786</td>\n",
       "      <td>6.978929</td>\n",
       "      <td>6.961786</td>\n",
       "      <td>8.420664e+08</td>\n",
       "      <td>5.968793</td>\n",
       "    </tr>\n",
       "    <tr>\n",
       "      <th>2008-01-04</th>\n",
       "      <td>6.892857</td>\n",
       "      <td>6.388929</td>\n",
       "      <td>6.837500</td>\n",
       "      <td>6.430357</td>\n",
       "      <td>1.455832e+09</td>\n",
       "      <td>5.513163</td>\n",
       "    </tr>\n",
       "    <tr>\n",
       "      <th>2008-01-07</th>\n",
       "      <td>6.557143</td>\n",
       "      <td>6.079643</td>\n",
       "      <td>6.473214</td>\n",
       "      <td>6.344286</td>\n",
       "      <td>2.072193e+09</td>\n",
       "      <td>5.439369</td>\n",
       "    </tr>\n",
       "    <tr>\n",
       "      <th>...</th>\n",
       "      <td>...</td>\n",
       "      <td>...</td>\n",
       "      <td>...</td>\n",
       "      <td>...</td>\n",
       "      <td>...</td>\n",
       "      <td>...</td>\n",
       "    </tr>\n",
       "    <tr>\n",
       "      <th>2022-01-03</th>\n",
       "      <td>182.880005</td>\n",
       "      <td>177.710007</td>\n",
       "      <td>177.830002</td>\n",
       "      <td>182.009995</td>\n",
       "      <td>1.044879e+08</td>\n",
       "      <td>182.009995</td>\n",
       "    </tr>\n",
       "    <tr>\n",
       "      <th>2022-01-04</th>\n",
       "      <td>182.940002</td>\n",
       "      <td>179.119995</td>\n",
       "      <td>182.630005</td>\n",
       "      <td>179.699997</td>\n",
       "      <td>9.931040e+07</td>\n",
       "      <td>179.699997</td>\n",
       "    </tr>\n",
       "    <tr>\n",
       "      <th>2022-01-05</th>\n",
       "      <td>180.169998</td>\n",
       "      <td>174.639999</td>\n",
       "      <td>179.610001</td>\n",
       "      <td>174.919998</td>\n",
       "      <td>9.453760e+07</td>\n",
       "      <td>174.919998</td>\n",
       "    </tr>\n",
       "    <tr>\n",
       "      <th>2022-01-06</th>\n",
       "      <td>175.300003</td>\n",
       "      <td>171.639999</td>\n",
       "      <td>172.699997</td>\n",
       "      <td>172.000000</td>\n",
       "      <td>9.690400e+07</td>\n",
       "      <td>172.000000</td>\n",
       "    </tr>\n",
       "    <tr>\n",
       "      <th>2022-01-07</th>\n",
       "      <td>174.139999</td>\n",
       "      <td>171.029999</td>\n",
       "      <td>172.889999</td>\n",
       "      <td>172.169998</td>\n",
       "      <td>8.658010e+07</td>\n",
       "      <td>172.169998</td>\n",
       "    </tr>\n",
       "  </tbody>\n",
       "</table>\n",
       "<p>3532 rows × 6 columns</p>\n",
       "</div>"
      ],
      "text/plain": [
       "                  High         Low        Open       Close        Volume  \\\n",
       "Date                                                                       \n",
       "2007-12-31    7.160714    7.062500    7.125000    7.074286  5.393332e+08   \n",
       "2008-01-02    7.152143    6.876786    7.116786    6.958571  1.079179e+09   \n",
       "2008-01-03    7.049643    6.881786    6.978929    6.961786  8.420664e+08   \n",
       "2008-01-04    6.892857    6.388929    6.837500    6.430357  1.455832e+09   \n",
       "2008-01-07    6.557143    6.079643    6.473214    6.344286  2.072193e+09   \n",
       "...                ...         ...         ...         ...           ...   \n",
       "2022-01-03  182.880005  177.710007  177.830002  182.009995  1.044879e+08   \n",
       "2022-01-04  182.940002  179.119995  182.630005  179.699997  9.931040e+07   \n",
       "2022-01-05  180.169998  174.639999  179.610001  174.919998  9.453760e+07   \n",
       "2022-01-06  175.300003  171.639999  172.699997  172.000000  9.690400e+07   \n",
       "2022-01-07  174.139999  171.029999  172.889999  172.169998  8.658010e+07   \n",
       "\n",
       "             Adj Close  \n",
       "Date                    \n",
       "2007-12-31    6.065246  \n",
       "2008-01-02    5.966035  \n",
       "2008-01-03    5.968793  \n",
       "2008-01-04    5.513163  \n",
       "2008-01-07    5.439369  \n",
       "...                ...  \n",
       "2022-01-03  182.009995  \n",
       "2022-01-04  179.699997  \n",
       "2022-01-05  174.919998  \n",
       "2022-01-06  172.000000  \n",
       "2022-01-07  172.169998  \n",
       "\n",
       "[3532 rows x 6 columns]"
      ]
     },
     "execution_count": 36,
     "metadata": {},
     "output_type": "execute_result"
    }
   ],
   "source": [
    "start='2008-01-01'\n",
    "end=yesterday;\n",
    "\n",
    "df=data.DataReader('AAPL','yahoo',start,end)\n",
    "df"
   ]
  },
  {
   "cell_type": "code",
   "execution_count": 37,
   "id": "371c3c87-c27d-4ed8-b8dc-96827621ec9e",
   "metadata": {},
   "outputs": [
    {
     "data": {
      "text/html": [
       "<div>\n",
       "<style scoped>\n",
       "    .dataframe tbody tr th:only-of-type {\n",
       "        vertical-align: middle;\n",
       "    }\n",
       "\n",
       "    .dataframe tbody tr th {\n",
       "        vertical-align: top;\n",
       "    }\n",
       "\n",
       "    .dataframe thead th {\n",
       "        text-align: right;\n",
       "    }\n",
       "</style>\n",
       "<table border=\"1\" class=\"dataframe\">\n",
       "  <thead>\n",
       "    <tr style=\"text-align: right;\">\n",
       "      <th></th>\n",
       "      <th>Date</th>\n",
       "      <th>High</th>\n",
       "      <th>Low</th>\n",
       "      <th>Open</th>\n",
       "      <th>Close</th>\n",
       "      <th>Volume</th>\n",
       "      <th>Adj Close</th>\n",
       "    </tr>\n",
       "  </thead>\n",
       "  <tbody>\n",
       "    <tr>\n",
       "      <th>0</th>\n",
       "      <td>2007-12-31</td>\n",
       "      <td>7.160714</td>\n",
       "      <td>7.062500</td>\n",
       "      <td>7.125000</td>\n",
       "      <td>7.074286</td>\n",
       "      <td>5.393332e+08</td>\n",
       "      <td>6.065246</td>\n",
       "    </tr>\n",
       "    <tr>\n",
       "      <th>1</th>\n",
       "      <td>2008-01-02</td>\n",
       "      <td>7.152143</td>\n",
       "      <td>6.876786</td>\n",
       "      <td>7.116786</td>\n",
       "      <td>6.958571</td>\n",
       "      <td>1.079179e+09</td>\n",
       "      <td>5.966035</td>\n",
       "    </tr>\n",
       "    <tr>\n",
       "      <th>2</th>\n",
       "      <td>2008-01-03</td>\n",
       "      <td>7.049643</td>\n",
       "      <td>6.881786</td>\n",
       "      <td>6.978929</td>\n",
       "      <td>6.961786</td>\n",
       "      <td>8.420664e+08</td>\n",
       "      <td>5.968793</td>\n",
       "    </tr>\n",
       "    <tr>\n",
       "      <th>3</th>\n",
       "      <td>2008-01-04</td>\n",
       "      <td>6.892857</td>\n",
       "      <td>6.388929</td>\n",
       "      <td>6.837500</td>\n",
       "      <td>6.430357</td>\n",
       "      <td>1.455832e+09</td>\n",
       "      <td>5.513163</td>\n",
       "    </tr>\n",
       "    <tr>\n",
       "      <th>4</th>\n",
       "      <td>2008-01-07</td>\n",
       "      <td>6.557143</td>\n",
       "      <td>6.079643</td>\n",
       "      <td>6.473214</td>\n",
       "      <td>6.344286</td>\n",
       "      <td>2.072193e+09</td>\n",
       "      <td>5.439369</td>\n",
       "    </tr>\n",
       "  </tbody>\n",
       "</table>\n",
       "</div>"
      ],
      "text/plain": [
       "        Date      High       Low      Open     Close        Volume  Adj Close\n",
       "0 2007-12-31  7.160714  7.062500  7.125000  7.074286  5.393332e+08   6.065246\n",
       "1 2008-01-02  7.152143  6.876786  7.116786  6.958571  1.079179e+09   5.966035\n",
       "2 2008-01-03  7.049643  6.881786  6.978929  6.961786  8.420664e+08   5.968793\n",
       "3 2008-01-04  6.892857  6.388929  6.837500  6.430357  1.455832e+09   5.513163\n",
       "4 2008-01-07  6.557143  6.079643  6.473214  6.344286  2.072193e+09   5.439369"
      ]
     },
     "execution_count": 37,
     "metadata": {},
     "output_type": "execute_result"
    }
   ],
   "source": [
    "df=df.reset_index()\n",
    "df.head()"
   ]
  },
  {
   "cell_type": "code",
   "execution_count": 38,
   "id": "5fb45485-41d7-482d-9fb3-61a0500979f6",
   "metadata": {},
   "outputs": [
    {
     "data": {
      "text/html": [
       "<div>\n",
       "<style scoped>\n",
       "    .dataframe tbody tr th:only-of-type {\n",
       "        vertical-align: middle;\n",
       "    }\n",
       "\n",
       "    .dataframe tbody tr th {\n",
       "        vertical-align: top;\n",
       "    }\n",
       "\n",
       "    .dataframe thead th {\n",
       "        text-align: right;\n",
       "    }\n",
       "</style>\n",
       "<table border=\"1\" class=\"dataframe\">\n",
       "  <thead>\n",
       "    <tr style=\"text-align: right;\">\n",
       "      <th></th>\n",
       "      <th>High</th>\n",
       "      <th>Low</th>\n",
       "      <th>Open</th>\n",
       "      <th>Close</th>\n",
       "      <th>Volume</th>\n",
       "    </tr>\n",
       "  </thead>\n",
       "  <tbody>\n",
       "    <tr>\n",
       "      <th>0</th>\n",
       "      <td>7.160714</td>\n",
       "      <td>7.062500</td>\n",
       "      <td>7.125000</td>\n",
       "      <td>7.074286</td>\n",
       "      <td>5.393332e+08</td>\n",
       "    </tr>\n",
       "    <tr>\n",
       "      <th>1</th>\n",
       "      <td>7.152143</td>\n",
       "      <td>6.876786</td>\n",
       "      <td>7.116786</td>\n",
       "      <td>6.958571</td>\n",
       "      <td>1.079179e+09</td>\n",
       "    </tr>\n",
       "    <tr>\n",
       "      <th>2</th>\n",
       "      <td>7.049643</td>\n",
       "      <td>6.881786</td>\n",
       "      <td>6.978929</td>\n",
       "      <td>6.961786</td>\n",
       "      <td>8.420664e+08</td>\n",
       "    </tr>\n",
       "    <tr>\n",
       "      <th>3</th>\n",
       "      <td>6.892857</td>\n",
       "      <td>6.388929</td>\n",
       "      <td>6.837500</td>\n",
       "      <td>6.430357</td>\n",
       "      <td>1.455832e+09</td>\n",
       "    </tr>\n",
       "    <tr>\n",
       "      <th>4</th>\n",
       "      <td>6.557143</td>\n",
       "      <td>6.079643</td>\n",
       "      <td>6.473214</td>\n",
       "      <td>6.344286</td>\n",
       "      <td>2.072193e+09</td>\n",
       "    </tr>\n",
       "  </tbody>\n",
       "</table>\n",
       "</div>"
      ],
      "text/plain": [
       "       High       Low      Open     Close        Volume\n",
       "0  7.160714  7.062500  7.125000  7.074286  5.393332e+08\n",
       "1  7.152143  6.876786  7.116786  6.958571  1.079179e+09\n",
       "2  7.049643  6.881786  6.978929  6.961786  8.420664e+08\n",
       "3  6.892857  6.388929  6.837500  6.430357  1.455832e+09\n",
       "4  6.557143  6.079643  6.473214  6.344286  2.072193e+09"
      ]
     },
     "execution_count": 38,
     "metadata": {},
     "output_type": "execute_result"
    }
   ],
   "source": [
    "date=df['Date']\n",
    "df=df.drop(['Date','Adj Close'],axis=1)\n",
    "df.head()"
   ]
  },
  {
   "cell_type": "code",
   "execution_count": 39,
   "id": "3f54e6c9-51e2-4204-b546-3c3507934a21",
   "metadata": {},
   "outputs": [
    {
     "data": {
      "text/plain": [
       "0            NaN\n",
       "1            NaN\n",
       "2            NaN\n",
       "3            NaN\n",
       "4            NaN\n",
       "          ...   \n",
       "3527    155.0014\n",
       "3528    155.3095\n",
       "3529    155.5677\n",
       "3530    155.7765\n",
       "3531    155.9963\n",
       "Name: Close, Length: 3532, dtype: float64"
      ]
     },
     "execution_count": 39,
     "metadata": {},
     "output_type": "execute_result"
    }
   ],
   "source": [
    "average100=df['Close'].rolling(100).mean()\n",
    "average100"
   ]
  },
  {
   "cell_type": "code",
   "execution_count": 40,
   "id": "3e94f473-3437-46ee-8645-b10a4107c89d",
   "metadata": {},
   "outputs": [],
   "source": [
    "average30=df['Close'].rolling(100).mean()\n",
    "#average365=df['Close'].rolling(365).mean()\n",
    "#average30"
   ]
  },
  {
   "cell_type": "code",
   "execution_count": 41,
   "id": "4f6261c1-babd-4af4-b4d2-bfff78205834",
   "metadata": {},
   "outputs": [
    {
     "data": {
      "image/png": "[encoded data removed]",
      "text/plain": [
       "<Figure size 864x432 with 1 Axes>"
      ]
     },
     "metadata": {
      "needs_background": "light"
     },
     "output_type": "display_data"
    }
   ],
   "source": [
    "plt.figure(figsize=(12,6))\n",
    "plt.plot(date,df['Close'],label=\"Every day\")\n",
    "plt.plot(date,average100,color='red',label=\"Every 100 days\")\n",
    "plt.plot(date,average30,color='green',label=\"Every 30 days\")\n",
    "#plt.plot(average365,color='pink',label=\"Every year\")\n",
    "plt.title(\"Stock Prices\")\n",
    "plt.xlabel(\"Time\")\n",
    "plt.ylabel(\"Price\")\n",
    "plt.legend()\n",
    "plt.show()"
   ]
  },
  {
   "cell_type": "code",
   "execution_count": 42,
   "id": "9f4407aa-1503-4390-bcc6-c4db487207e1",
   "metadata": {},
   "outputs": [
    {
     "data": {
      "text/plain": [
       "(3532, 5)"
      ]
     },
     "execution_count": 42,
     "metadata": {},
     "output_type": "execute_result"
    }
   ],
   "source": [
    "df.shape"
   ]
  },
  {
   "cell_type": "code",
   "execution_count": 140,
   "id": "51c98989-8d04-4ea3-97b3-1aadb79858da",
   "metadata": {},
   "outputs": [
    {
     "name": "stdout",
     "output_type": "stream",
     "text": [
      "(2472, 1)\n",
      "(1060, 1)\n"
     ]
    }
   ],
   "source": [
    "#Splitting data into training and testing\n",
    "\n",
    "data_training= pd.DataFrame(df['Close'][0:int(len(df)*0.7)])\n",
    "data_testing= pd.DataFrame(df['Close'][int(len(df)*0.7):int(len(df))])\n",
    "ydate= date[int(len(df)*0.7):int(len(df))]\n",
    "print(data_training.shape)\n",
    "print(data_testing.shape)"
   ]
  },
  {
   "cell_type": "code",
   "execution_count": 44,
   "id": "a28f8a36-4203-45ce-ba03-5c9f4bf09996",
   "metadata": {},
   "outputs": [
    {
     "data": {
      "text/html": [
       "<div>\n",
       "<style scoped>\n",
       "    .dataframe tbody tr th:only-of-type {\n",
       "        vertical-align: middle;\n",
       "    }\n",
       "\n",
       "    .dataframe tbody tr th {\n",
       "        vertical-align: top;\n",
       "    }\n",
       "\n",
       "    .dataframe thead th {\n",
       "        text-align: right;\n",
       "    }\n",
       "</style>\n",
       "<table border=\"1\" class=\"dataframe\">\n",
       "  <thead>\n",
       "    <tr style=\"text-align: right;\">\n",
       "      <th></th>\n",
       "      <th>Close</th>\n",
       "    </tr>\n",
       "  </thead>\n",
       "  <tbody>\n",
       "    <tr>\n",
       "      <th>0</th>\n",
       "      <td>7.074286</td>\n",
       "    </tr>\n",
       "    <tr>\n",
       "      <th>1</th>\n",
       "      <td>6.958571</td>\n",
       "    </tr>\n",
       "    <tr>\n",
       "      <th>2</th>\n",
       "      <td>6.961786</td>\n",
       "    </tr>\n",
       "    <tr>\n",
       "      <th>3</th>\n",
       "      <td>6.430357</td>\n",
       "    </tr>\n",
       "    <tr>\n",
       "      <th>4</th>\n",
       "      <td>6.344286</td>\n",
       "    </tr>\n",
       "  </tbody>\n",
       "</table>\n",
       "</div>"
      ],
      "text/plain": [
       "      Close\n",
       "0  7.074286\n",
       "1  6.958571\n",
       "2  6.961786\n",
       "3  6.430357\n",
       "4  6.344286"
      ]
     },
     "execution_count": 44,
     "metadata": {},
     "output_type": "execute_result"
    }
   ],
   "source": [
    "data_training.head()"
   ]
  },
  {
   "cell_type": "code",
   "execution_count": 45,
   "id": "e969567d-9485-4c0e-be6b-7e4fb61a88ef",
   "metadata": {},
   "outputs": [
    {
     "name": "stdout",
     "output_type": "stream",
     "text": [
      "\u001b[33mDEPRECATION: Configuring installation scheme with distutils config files is deprecated and will no longer work in the near future. If you are using a Homebrew or Linuxbrew Python, please see discussion at https://github.com/Homebrew/homebrew-core/issues/76621\u001b[0m\n",
      "Requirement already satisfied: sklearn in /usr/local/lib/python3.9/site-packages (0.0)\n",
      "Requirement already satisfied: scikit-learn in /usr/local/lib/python3.9/site-packages (from sklearn) (1.0.2)\n",
      "Requirement already satisfied: threadpoolctl>=2.0.0 in /usr/local/lib/python3.9/site-packages (from scikit-learn->sklearn) (3.0.0)\n",
      "Requirement already satisfied: joblib>=0.11 in /usr/local/lib/python3.9/site-packages (from scikit-learn->sklearn) (1.1.0)\n",
      "Requirement already satisfied: scipy>=1.1.0 in /usr/local/lib/python3.9/site-packages (from scikit-learn->sklearn) (1.7.3)\n",
      "Requirement already satisfied: numpy>=1.14.6 in /usr/local/lib/python3.9/site-packages (from scikit-learn->sklearn) (1.21.2)\n",
      "Note: you may need to restart the kernel to use updated packages.\n"
     ]
    }
   ],
   "source": [
    "pip install sklearn"
   ]
  },
  {
   "cell_type": "code",
   "execution_count": 46,
   "id": "1a271bda-3d66-480d-ac85-9c1ecc105fb8",
   "metadata": {},
   "outputs": [],
   "source": [
    "from sklearn.preprocessing import MinMaxScaler\n",
    "scaler=MinMaxScaler(feature_range=(0,1))"
   ]
  },
  {
   "cell_type": "code",
   "execution_count": 121,
   "id": "8502118b-4b3b-4bd4-a71e-9c8629dfdf7b",
   "metadata": {},
   "outputs": [],
   "source": [
    "dataset_train = scaler.fit_transform(data_training)\n",
    "dataset_test = scaler.transform(data_testing)"
   ]
  },
  {
   "cell_type": "code",
   "execution_count": 123,
   "id": "d1a28f19-8f0e-42fb-bc3b-6d6cd25fc870",
   "metadata": {},
   "outputs": [],
   "source": [
    "def create_dataset(df):\n",
    "    x = []\n",
    "    y = []\n",
    "    for i in range(50, df.shape[0]):\n",
    "        x.append(df[i-50:i, 0])\n",
    "        y.append(df[i, 0])\n",
    "    x = np.array(x)\n",
    "    y = np.array(y)\n",
    "    return x,y"
   ]
  },
  {
   "cell_type": "code",
   "execution_count": 124,
   "id": "878020b2-c0df-411b-8d84-784fee507265",
   "metadata": {},
   "outputs": [],
   "source": [
    "x_train, y_train = create_dataset(dataset_train)\n",
    "x_test, y_test = create_dataset(dataset_test)"
   ]
  },
  {
   "cell_type": "code",
   "execution_count": 125,
   "id": "11f88168-b4e7-4036-ba72-2f894dac9cbc",
   "metadata": {},
   "outputs": [],
   "source": [
    "x_train = np.reshape(x_train, (x_train.shape[0], x_train.shape[1], 1))\n",
    "x_test = np.reshape(x_test, (x_test.shape[0], x_test.shape[1], 1))"
   ]
  },
  {
   "cell_type": "code",
   "execution_count": null,
   "id": "deb18a6a-37aa-446b-aa74-667b2bd47a8f",
   "metadata": {},
   "outputs": [],
   "source": [
    "#ML MODEL"
   ]
  },
  {
   "cell_type": "code",
   "execution_count": 127,
   "id": "38c69363-1165-4304-98f8-72184a11b887",
   "metadata": {},
   "outputs": [
    {
     "name": "stdout",
     "output_type": "stream",
     "text": [
      "\u001b[33mDEPRECATION: Configuring installation scheme with distutils config files is deprecated and will no longer work in the near future. If you are using a Homebrew or Linuxbrew Python, please see discussion at https://github.com/Homebrew/homebrew-core/issues/76621\u001b[0m\n",
      "Requirement already satisfied: keras in /usr/local/lib/python3.9/site-packages (2.7.0)\n",
      "Note: you may need to restart the kernel to use updated packages.\n"
     ]
    }
   ],
   "source": [
    "pip install keras"
   ]
  },
  {
   "cell_type": "code",
   "execution_count": 128,
   "id": "7d137174-27c0-4d4d-9411-92c5068485ce",
   "metadata": {},
   "outputs": [
    {
     "name": "stdout",
     "output_type": "stream",
     "text": [
      "\u001b[33mDEPRECATION: Configuring installation scheme with distutils config files is deprecated and will no longer work in the near future. If you are using a Homebrew or Linuxbrew Python, please see discussion at https://github.com/Homebrew/homebrew-core/issues/76621\u001b[0m\n",
      "Requirement already satisfied: tensorflow in /usr/local/lib/python3.9/site-packages (2.7.0)\n",
      "Requirement already satisfied: numpy>=1.14.5 in /usr/local/lib/python3.9/site-packages (from tensorflow) (1.21.2)\n",
      "Requirement already satisfied: libclang>=9.0.1 in /usr/local/lib/python3.9/site-packages (from tensorflow) (12.0.0)\n",
      "Requirement already satisfied: h5py>=2.9.0 in /usr/local/lib/python3.9/site-packages (from tensorflow) (3.6.0)\n",
      "Requirement already satisfied: keras<2.8,>=2.7.0rc0 in /usr/local/lib/python3.9/site-packages (from tensorflow) (2.7.0)\n",
      "Requirement already satisfied: tensorflow-estimator<2.8,~=2.7.0rc0 in /usr/local/lib/python3.9/site-packages (from tensorflow) (2.7.0)\n",
      "Requirement already satisfied: astunparse>=1.6.0 in /usr/local/lib/python3.9/site-packages (from tensorflow) (1.6.3)\n",
      "Requirement already satisfied: tensorboard~=2.6 in /usr/local/lib/python3.9/site-packages (from tensorflow) (2.7.0)\n",
      "Requirement already satisfied: wrapt>=1.11.0 in /usr/local/lib/python3.9/site-packages (from tensorflow) (1.13.3)\n",
      "Requirement already satisfied: gast<0.5.0,>=0.2.1 in /usr/local/lib/python3.9/site-packages (from tensorflow) (0.4.0)\n",
      "Requirement already satisfied: absl-py>=0.4.0 in /usr/local/lib/python3.9/site-packages (from tensorflow) (1.0.0)\n",
      "Requirement already satisfied: protobuf>=3.9.2 in /usr/local/lib/python3.9/site-packages (from tensorflow) (3.19.1)\n",
      "Requirement already satisfied: typing-extensions>=3.6.6 in /usr/local/lib/python3.9/site-packages (from tensorflow) (4.0.1)\n",
      "Requirement already satisfied: opt-einsum>=2.3.2 in /usr/local/lib/python3.9/site-packages (from tensorflow) (3.3.0)\n",
      "Requirement already satisfied: flatbuffers<3.0,>=1.12 in /usr/local/lib/python3.9/site-packages (from tensorflow) (2.0)\n",
      "Requirement already satisfied: google-pasta>=0.1.1 in /usr/local/lib/python3.9/site-packages (from tensorflow) (0.2.0)\n",
      "Requirement already satisfied: termcolor>=1.1.0 in /usr/local/lib/python3.9/site-packages (from tensorflow) (1.1.0)\n",
      "Requirement already satisfied: wheel<1.0,>=0.32.0 in /usr/local/lib/python3.9/site-packages (from tensorflow) (0.37.0)\n",
      "Requirement already satisfied: keras-preprocessing>=1.1.1 in /usr/local/lib/python3.9/site-packages (from tensorflow) (1.1.2)\n",
      "Requirement already satisfied: tensorflow-io-gcs-filesystem>=0.21.0 in /usr/local/lib/python3.9/site-packages (from tensorflow) (0.23.1)\n",
      "Requirement already satisfied: six>=1.12.0 in /usr/local/lib/python3.9/site-packages (from tensorflow) (1.16.0)\n",
      "Requirement already satisfied: grpcio<2.0,>=1.24.3 in /usr/local/lib/python3.9/site-packages (from tensorflow) (1.43.0)\n",
      "Requirement already satisfied: markdown>=2.6.8 in /usr/local/lib/python3.9/site-packages (from tensorboard~=2.6->tensorflow) (3.3.6)\n",
      "Requirement already satisfied: google-auth-oauthlib<0.5,>=0.4.1 in /usr/local/lib/python3.9/site-packages (from tensorboard~=2.6->tensorflow) (0.4.6)\n",
      "Requirement already satisfied: tensorboard-plugin-wit>=1.6.0 in /usr/local/lib/python3.9/site-packages (from tensorboard~=2.6->tensorflow) (1.8.1)\n",
      "Requirement already satisfied: google-auth<3,>=1.6.3 in /usr/local/lib/python3.9/site-packages (from tensorboard~=2.6->tensorflow) (2.3.3)\n",
      "Requirement already satisfied: setuptools>=41.0.0 in /usr/local/lib/python3.9/site-packages (from tensorboard~=2.6->tensorflow) (57.4.0)\n",
      "Requirement already satisfied: tensorboard-data-server<0.7.0,>=0.6.0 in /usr/local/lib/python3.9/site-packages (from tensorboard~=2.6->tensorflow) (0.6.1)\n",
      "Requirement already satisfied: requests<3,>=2.21.0 in /usr/local/lib/python3.9/site-packages (from tensorboard~=2.6->tensorflow) (2.26.0)\n",
      "Requirement already satisfied: werkzeug>=0.11.15 in /usr/local/lib/python3.9/site-packages (from tensorboard~=2.6->tensorflow) (2.0.2)\n",
      "Requirement already satisfied: rsa<5,>=3.1.4 in /usr/local/lib/python3.9/site-packages (from google-auth<3,>=1.6.3->tensorboard~=2.6->tensorflow) (4.8)\n",
      "Requirement already satisfied: cachetools<5.0,>=2.0.0 in /usr/local/lib/python3.9/site-packages (from google-auth<3,>=1.6.3->tensorboard~=2.6->tensorflow) (4.2.4)\n",
      "Requirement already satisfied: pyasn1-modules>=0.2.1 in /usr/local/lib/python3.9/site-packages (from google-auth<3,>=1.6.3->tensorboard~=2.6->tensorflow) (0.2.8)\n",
      "Requirement already satisfied: requests-oauthlib>=0.7.0 in /usr/local/lib/python3.9/site-packages (from google-auth-oauthlib<0.5,>=0.4.1->tensorboard~=2.6->tensorflow) (1.3.0)\n",
      "Requirement already satisfied: importlib-metadata>=4.4 in /usr/local/lib/python3.9/site-packages (from markdown>=2.6.8->tensorboard~=2.6->tensorflow) (4.10.0)\n",
      "Requirement already satisfied: idna<4,>=2.5 in /usr/local/lib/python3.9/site-packages (from requests<3,>=2.21.0->tensorboard~=2.6->tensorflow) (3.3)\n",
      "Requirement already satisfied: certifi>=2017.4.17 in /usr/local/lib/python3.9/site-packages (from requests<3,>=2.21.0->tensorboard~=2.6->tensorflow) (2021.5.30)\n",
      "Requirement already satisfied: urllib3<1.27,>=1.21.1 in /usr/local/lib/python3.9/site-packages (from requests<3,>=2.21.0->tensorboard~=2.6->tensorflow) (1.26.7)\n",
      "Requirement already satisfied: charset-normalizer~=2.0.0 in /usr/local/lib/python3.9/site-packages (from requests<3,>=2.21.0->tensorboard~=2.6->tensorflow) (2.0.7)\n",
      "Requirement already satisfied: zipp>=0.5 in /usr/local/lib/python3.9/site-packages (from importlib-metadata>=4.4->markdown>=2.6.8->tensorboard~=2.6->tensorflow) (3.7.0)\n",
      "Requirement already satisfied: pyasn1<0.5.0,>=0.4.6 in /usr/local/lib/python3.9/site-packages (from pyasn1-modules>=0.2.1->google-auth<3,>=1.6.3->tensorboard~=2.6->tensorflow) (0.4.8)\n",
      "Requirement already satisfied: oauthlib>=3.0.0 in /usr/local/lib/python3.9/site-packages (from requests-oauthlib>=0.7.0->google-auth-oauthlib<0.5,>=0.4.1->tensorboard~=2.6->tensorflow) (3.1.1)\n",
      "Note: you may need to restart the kernel to use updated packages.\n"
     ]
    }
   ],
   "source": [
    "pip install tensorflow"
   ]
  },
  {
   "cell_type": "code",
   "execution_count": 129,
   "id": "364ba039-0f19-492e-8e17-9643e1265859",
   "metadata": {},
   "outputs": [],
   "source": [
    "from keras.layers import Dense, Dropout, LSTM\n",
    "from keras.models import Sequential"
   ]
  },
  {
   "cell_type": "code",
   "execution_count": 130,
   "id": "208077ec-f088-4ef9-ae93-8e275927f011",
   "metadata": {},
   "outputs": [],
   "source": [
    "model = Sequential()\n",
    "model.add(LSTM(units=96, return_sequences=True, input_shape=(x_train.shape[1], 1)))\n",
    "model.add(Dropout(0.2))\n",
    "model.add(LSTM(units=96,return_sequences=True))\n",
    "model.add(Dropout(0.2))\n",
    "model.add(LSTM(units=96,return_sequences=True))\n",
    "model.add(Dropout(0.2))\n",
    "model.add(LSTM(units=96))\n",
    "model.add(Dropout(0.2))\n",
    "model.add(Dense(units=1))"
   ]
  },
  {
   "cell_type": "code",
   "execution_count": 131,
   "id": "01fc5e62-1de0-40fe-9294-1f015373adbb",
   "metadata": {},
   "outputs": [],
   "source": [
    "x_train = np.reshape(x_train, (x_train.shape[0], x_train.shape[1], 1))\n",
    "x_test = np.reshape(x_test, (x_test.shape[0], x_test.shape[1], 1))"
   ]
  },
  {
   "cell_type": "code",
   "execution_count": 132,
   "id": "ab95f2f0-b743-4012-9725-ccb1126df77c",
   "metadata": {},
   "outputs": [],
   "source": [
    "model.compile(loss='mean_squared_error', optimizer='adam')\n"
   ]
  },
  {
   "cell_type": "code",
   "execution_count": 133,
   "id": "ec207a32-d66d-4526-ae07-07cf006112ce",
   "metadata": {},
   "outputs": [
    {
     "name": "stdout",
     "output_type": "stream",
     "text": [
      "Epoch 1/50\n",
      "76/76 [==============================] - 15s 124ms/step - loss: 0.0115\n",
      "Epoch 2/50\n",
      "76/76 [==============================] - 15s 202ms/step - loss: 0.0023\n",
      "Epoch 3/50\n",
      "76/76 [==============================] - 11s 143ms/step - loss: 0.0021\n",
      "Epoch 4/50\n",
      "76/76 [==============================] - 11s 141ms/step - loss: 0.0019\n",
      "Epoch 5/50\n",
      "76/76 [==============================] - 11s 142ms/step - loss: 0.0018\n",
      "Epoch 6/50\n",
      "76/76 [==============================] - 11s 143ms/step - loss: 0.0018\n",
      "Epoch 7/50\n",
      "76/76 [==============================] - 11s 145ms/step - loss: 0.0018\n",
      "Epoch 8/50\n",
      "76/76 [==============================] - 11s 144ms/step - loss: 0.0015\n",
      "Epoch 9/50\n",
      "76/76 [==============================] - 11s 146ms/step - loss: 0.0014\n",
      "Epoch 10/50\n",
      "76/76 [==============================] - 12s 152ms/step - loss: 0.0016\n",
      "Epoch 11/50\n",
      "76/76 [==============================] - 13s 170ms/step - loss: 0.0017\n",
      "Epoch 12/50\n",
      "76/76 [==============================] - 11s 147ms/step - loss: 0.0015\n",
      "Epoch 13/50\n",
      "76/76 [==============================] - 11s 145ms/step - loss: 0.0016\n",
      "Epoch 14/50\n",
      "76/76 [==============================] - 11s 149ms/step - loss: 0.0013\n",
      "Epoch 15/50\n",
      "76/76 [==============================] - 11s 146ms/step - loss: 0.0012\n",
      "Epoch 16/50\n",
      "76/76 [==============================] - 11s 147ms/step - loss: 0.0012\n",
      "Epoch 17/50\n",
      "76/76 [==============================] - 11s 145ms/step - loss: 0.0011\n",
      "Epoch 18/50\n",
      "76/76 [==============================] - 11s 145ms/step - loss: 0.0013\n",
      "Epoch 19/50\n",
      "76/76 [==============================] - 11s 144ms/step - loss: 0.0011\n",
      "Epoch 20/50\n",
      "76/76 [==============================] - 11s 144ms/step - loss: 0.0011\n",
      "Epoch 21/50\n",
      "76/76 [==============================] - 11s 146ms/step - loss: 0.0011\n",
      "Epoch 22/50\n",
      "76/76 [==============================] - 11s 143ms/step - loss: 0.0011\n",
      "Epoch 23/50\n",
      "76/76 [==============================] - 11s 144ms/step - loss: 0.0011\n",
      "Epoch 24/50\n",
      "76/76 [==============================] - 12s 164ms/step - loss: 0.0012\n",
      "Epoch 25/50\n",
      "76/76 [==============================] - 14s 181ms/step - loss: 0.0011\n",
      "Epoch 26/50\n",
      "76/76 [==============================] - 11s 150ms/step - loss: 0.0010\n",
      "Epoch 27/50\n",
      "76/76 [==============================] - 11s 144ms/step - loss: 9.7873e-04\n",
      "Epoch 28/50\n",
      "76/76 [==============================] - 11s 140ms/step - loss: 0.0011\n",
      "Epoch 29/50\n",
      "76/76 [==============================] - 10s 136ms/step - loss: 0.0011\n",
      "Epoch 30/50\n",
      "76/76 [==============================] - 11s 150ms/step - loss: 8.6015e-04\n",
      "Epoch 31/50\n",
      "76/76 [==============================] - 10s 136ms/step - loss: 8.9496e-04\n",
      "Epoch 32/50\n",
      "76/76 [==============================] - 10s 133ms/step - loss: 8.4533e-04\n",
      "Epoch 33/50\n",
      "76/76 [==============================] - 10s 135ms/step - loss: 8.9896e-04\n",
      "Epoch 34/50\n",
      "76/76 [==============================] - 10s 131ms/step - loss: 8.9684e-04\n",
      "Epoch 35/50\n",
      "76/76 [==============================] - 10s 132ms/step - loss: 8.8065e-04\n",
      "Epoch 36/50\n",
      "76/76 [==============================] - 10s 133ms/step - loss: 8.0447e-04\n",
      "Epoch 37/50\n",
      "76/76 [==============================] - 10s 132ms/step - loss: 8.3962e-04\n",
      "Epoch 38/50\n",
      "76/76 [==============================] - 10s 130ms/step - loss: 8.8594e-04\n",
      "Epoch 39/50\n",
      "76/76 [==============================] - 10s 137ms/step - loss: 7.4939e-04\n",
      "Epoch 40/50\n",
      "76/76 [==============================] - 10s 132ms/step - loss: 8.7739e-04\n",
      "Epoch 41/50\n",
      "76/76 [==============================] - 14s 181ms/step - loss: 8.1969e-04\n",
      "Epoch 42/50\n",
      "76/76 [==============================] - 14s 187ms/step - loss: 7.9301e-04\n",
      "Epoch 43/50\n",
      "76/76 [==============================] - 13s 174ms/step - loss: 0.0010\n",
      "Epoch 44/50\n",
      "76/76 [==============================] - 11s 142ms/step - loss: 8.8453e-04\n",
      "Epoch 45/50\n",
      "76/76 [==============================] - 11s 140ms/step - loss: 6.7816e-04\n",
      "Epoch 46/50\n",
      "76/76 [==============================] - 11s 139ms/step - loss: 7.6332e-04\n",
      "Epoch 47/50\n",
      "76/76 [==============================] - 11s 144ms/step - loss: 6.9748e-04\n",
      "Epoch 48/50\n",
      "76/76 [==============================] - 11s 140ms/step - loss: 7.9073e-04\n",
      "Epoch 49/50\n",
      "76/76 [==============================] - 11s 140ms/step - loss: 7.0088e-04\n",
      "Epoch 50/50\n",
      "76/76 [==============================] - 11s 138ms/step - loss: 6.8170e-04\n"
     ]
    }
   ],
   "source": [
    "model.fit(x_train, y_train, epochs=50, batch_size=32)\n",
    "model.save('stock_prediction.h5')"
   ]
  },
  {
   "cell_type": "code",
   "execution_count": 146,
   "id": "d57d118e-5520-4bde-8870-480062ae5579",
   "metadata": {},
   "outputs": [
    {
     "data": {
      "text/plain": [
       "array([[55506.05750417],\n",
       "       [55458.09069095],\n",
       "       [55421.15439572],\n",
       "       ...,\n",
       "       [ 3002.3858538 ],\n",
       "       [ 2914.81756817],\n",
       "       [ 2807.74503136]])"
      ]
     },
     "execution_count": 146,
     "metadata": {},
     "output_type": "execute_result"
    }
   ],
   "source": [
    "Y_predicted = model.predict(x_test)\n",
    "scale_factor=scaler.scale_\n",
    "y_predicted=y_predicted/scale_factor\n",
    "y_test=y_test/scale_factor\n",
    "y_predicted"
   ]
  },
  {
   "cell_type": "code",
   "execution_count": 144,
   "id": "2e167d0b-7b35-40ac-8726-1e427e58648e",
   "metadata": {},
   "outputs": [
    {
     "data": {
      "text/plain": [
       "<matplotlib.legend.Legend at 0x12deb2130>"
      ]
     },
     "execution_count": 144,
     "metadata": {},
     "output_type": "execute_result"
    },
    {
     "data": {
      "image/png": "[encoded data removed]",
      "text/plain": [
       "<Figure size 1152x576 with 1 Axes>"
      ]
     },
     "metadata": {
      "needs_background": "light"
     },
     "output_type": "display_data"
    }
   ],
   "source": [
    "\n",
    "\n",
    "cydate=ydate[50:]\n",
    "fig, ax = plt.subplots(figsize=(16,8))\n",
    "ax.set_facecolor('#000041')\n",
    "ax.plot(cydate,y_test_scaled, color='red', label='Original price')\n",
    "plt.plot(cydate,predictions, color='cyan', label='Predicted price')\n",
    "plt.xlabel(\"Date\")\n",
    "plt.ylabel(\"Price\")\n",
    "plt.title(\"Stocks\")\n",
    "plt.legend()"
   ]
  },
  {
   "cell_type": "code",
   "execution_count": 115,
   "id": "a50ce351-4fc4-44c2-a2ad-ca5c47c5054c",
   "metadata": {},
   "outputs": [],
   "source": [
    "#The scaled down value\n",
    "predictions = scaler.inverse_transform(predictions)\n",
    "y_test_scaled = scaler.inverse_transform(y_test.reshape(-1, 1))\n",
    "\n",
    "\n",
    "pr"
   ]
  },
  {
   "cell_type": "code",
   "execution_count": 116,
   "id": "e6c94d37-5f5c-4cf9-86fd-1c46cd7d1bb2",
   "metadata": {},
   "outputs": [
    {
     "data": {
      "image/png": "[encoded data removed]",
      "text/plain": [
       "<Figure size 864x432 with 1 Axes>"
      ]
     },
     "metadata": {
      "needs_background": "light"
     },
     "output_type": "display_data"
    }
   ],
   "source": [
    "plt.figure(figsize=(12,6))\n",
    "plt.plot(ydate,y_test,color='blue',label=\"Original Price\")\n",
    "plt.plot(ydate,y_predicted,color='green',label=\"Predicted Price\")\n",
    "plt.xlabel(\"Date\")\n",
    "plt.ylabel(\"Price\")\n",
    "plt.legend()\n",
    "plt.show()"
   ]
  },
  {
   "cell_type": "code",
   "execution_count": null,
   "id": "0916e0e1-f9a6-4f6a-ae51-90ff79ccc1d3",
   "metadata": {},
   "outputs": [],
   "source": []
  }
 ],
 "metadata": {
  "kernelspec": {
   "display_name": "Python 3 (ipykernel)",
   "language": "python",
   "name": "python3"
  },
  "language_info": {
   "codemirror_mode": {
    "name": "ipython",
    "version": 3
   },
   "file_extension": ".py",
   "mimetype": "text/x-python",
   "name": "python",
   "nbconvert_exporter": "python",
   "pygments_lexer": "ipython3",
   "version": "3.9.7"
  }
 },
 "nbformat": 4,
 "nbformat_minor": 5
}

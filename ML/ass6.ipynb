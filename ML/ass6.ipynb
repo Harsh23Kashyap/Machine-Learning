{
 "cells": [
  {
   "cell_type": "code",
   "execution_count": 1,
   "id": "bb0be827",
   "metadata": {},
   "outputs": [],
   "source": [
    "import numpy as np"
   ]
  },
  {
   "cell_type": "code",
   "execution_count": 2,
   "id": "785511e7",
   "metadata": {},
   "outputs": [
    {
     "name": "stdout",
     "output_type": "stream",
     "text": [
      "[1, 2, 3, 4, 5, 6, 7, 8, 9]\n",
      "[2, 4, 6, 8]\n",
      "[1, 3, 5, 7, 9]\n"
     ]
    }
   ],
   "source": [
    "#q1\n",
    "a=[1,2,3,4,5,6,7,8,9]\n",
    "b=[]\n",
    "c=[]\n",
    "for i in a:\n",
    "    if i%2==0 :\n",
    "        b.append(i)\n",
    "    else :\n",
    "        c.append(i)\n",
    "print(a)\n",
    "print(b)\n",
    "print(c)\n",
    "    "
   ]
  },
  {
   "cell_type": "code",
   "execution_count": 3,
   "id": "a525d815",
   "metadata": {},
   "outputs": [
    {
     "name": "stdout",
     "output_type": "stream",
     "text": [
      "['odd' '2' 'odd' '4' 'odd' '6' 'odd' '8' 'odd']\n"
     ]
    }
   ],
   "source": [
    "#Q2\n",
    "a=[1,2,3,4,5,6,7,8,9]\n",
    "for i in range(0,len(a)):\n",
    "    if a[i]%2!=0:\n",
    "        a[i]=\"odd\"\n",
    "b=np.array(a)\n",
    "print(b)\n"
   ]
  },
  {
   "cell_type": "code",
   "execution_count": 4,
   "id": "2da45be5",
   "metadata": {},
   "outputs": [
    {
     "data": {
      "text/plain": [
       "array(['How', 'How', 'How', 'are', 'are', 'are', 'you', 'you', 'you',\n",
       "       'How', 'are', 'you', 'How', 'are', 'you', 'How', 'are', 'you'],\n",
       "      dtype='<U3')"
      ]
     },
     "execution_count": 4,
     "metadata": {},
     "output_type": "execute_result"
    }
   ],
   "source": [
    "#q3\n",
    "b=np.array(['How','are','you'])\n",
    "np.append(np.resize(b.T,(3,3)).T.flatten(),np.resize(b,(3,3)).flatten())"
   ]
  },
  {
   "cell_type": "code",
   "execution_count": 5,
   "id": "22bf35e0",
   "metadata": {},
   "outputs": [
    {
     "data": {
      "text/plain": [
       "array(['a', 'c'], dtype='<U1')"
      ]
     },
     "execution_count": 5,
     "metadata": {},
     "output_type": "execute_result"
    }
   ],
   "source": [
    "#q4\n",
    "a=np.array(['a','b','c','d'])\n",
    "b=np.array(['a','c','e'])\n",
    "np.intersect1d(a,b)\n",
    "    \n"
   ]
  },
  {
   "cell_type": "code",
   "execution_count": 6,
   "id": "41d1401c",
   "metadata": {},
   "outputs": [
    {
     "name": "stdout",
     "output_type": "stream",
     "text": [
      "[[3 2 1]\n",
      " [6 5 4]\n",
      " [9 8 7]]\n",
      "[[6 5 4]\n",
      " [3 2 1]\n",
      " [9 8 7]]\n"
     ]
    }
   ],
   "source": [
    "#Q5\n",
    "a=np.array([1,2,3,4,5,6,7,8,9]).reshape(3,3)\n",
    "a[:,[0,2]]=a[:,[2,0]]\n",
    "print(a)\n",
    "a[[0,1],:]=a[[1,0],:]\n",
    "print(a)"
   ]
  },
  {
   "cell_type": "code",
   "execution_count": 7,
   "id": "ec086737",
   "metadata": {},
   "outputs": [
    {
     "data": {
      "text/plain": [
       "array([[ 7, 11,  6],\n",
       "       [ 7, 11, 10],\n",
       "       [ 6,  8, 10],\n",
       "       [ 6,  7,  9],\n",
       "       [11, 10,  9]])"
      ]
     },
     "execution_count": 7,
     "metadata": {},
     "output_type": "execute_result"
    }
   ],
   "source": [
    "#Q6\n",
    "a=np.random.randint(low=6,high=12,size=15)\n",
    "np.resize(a,(5,3))\n"
   ]
  },
  {
   "cell_type": "code",
   "execution_count": 9,
   "id": "74304bc4",
   "metadata": {},
   "outputs": [
    {
     "data": {
      "text/plain": [
       "array([0.82, 0.27, 0.25, 0.83, 0.22, 0.35, 0.85, 0.49, 0.02, 0.13])"
      ]
     },
     "execution_count": 9,
     "metadata": {},
     "output_type": "execute_result"
    }
   ],
   "source": [
    "#q7\n",
    "a=np.random.rand(10)\n",
    "np.round(a,2)\n",
    "    "
   ]
  },
  {
   "cell_type": "code",
   "execution_count": 12,
   "id": "aab20bad",
   "metadata": {},
   "outputs": [
    {
     "name": "stderr",
     "output_type": "stream",
     "text": [
      "<ipython-input-12-c6d49f3795f2>:3: VisibleDeprecationWarning: Reading unicode strings without specifying the encoding argument is deprecated. Set the encoding, use None for the system default.\n",
      "  iris = np.genfromtxt(url, delimiter=',', dtype=None)\n"
     ]
    },
    {
     "data": {
      "text/plain": [
       "array([[5.1, 3.5, 1.4, 0.2],\n",
       "       [4.9, 3. , 1.4, 0.2],\n",
       "       [4.7, 3.2, 1.3, 0.2],\n",
       "       [4.6, 3.1, 1.5, 0.2]])"
      ]
     },
     "execution_count": 12,
     "metadata": {},
     "output_type": "execute_result"
    }
   ],
   "source": [
    "#q8\n",
    "url = 'https://archive.ics.uci.edu/ml/machine-learning-databases/iris/iris.data'\n",
    "iris = np.genfromtxt(url, delimiter=',', dtype=None)\n",
    "names = ('sepallength', 'sepalwidth', 'petallength', 'petalwidth', 'species')\n",
    "iris_2d = np.genfromtxt(url, delimiter=',', dtype='float', usecols=[0,1,2,3])\n",
    "iris_2d[:4]"
   ]
  },
  {
   "cell_type": "code",
   "execution_count": 13,
   "id": "a74cbf4d",
   "metadata": {},
   "outputs": [
    {
     "name": "stdout",
     "output_type": "stream",
     "text": [
      "5.843333333333334 5.8 0.8253012917851409\n"
     ]
    }
   ],
   "source": [
    "#q9\n",
    "url = 'https://archive.ics.uci.edu/ml/machine-learning-databases/iris/iris.data'\n",
    "iris = np.genfromtxt(url, delimiter=',', dtype='object')\n",
    "sepallength = np.genfromtxt(url, delimiter=',', dtype='float', usecols=[0])\n",
    "\n",
    "mu, med, sd = np.mean(sepallength), np.median(sepallength), np.std(sepallength)\n",
    "print(mu, med, sd)"
   ]
  },
  {
   "cell_type": "code",
   "execution_count": null,
   "id": "7f7f6a9f",
   "metadata": {},
   "outputs": [],
   "source": []
  }
 ],
 "metadata": {
  "kernelspec": {
   "display_name": "Python 3",
   "language": "python",
   "name": "python3"
  },
  "language_info": {
   "codemirror_mode": {
    "name": "ipython",
    "version": 3
   },
   "file_extension": ".py",
   "mimetype": "text/x-python",
   "name": "python",
   "nbconvert_exporter": "python",
   "pygments_lexer": "ipython3",
   "version": "3.8.11"
  }
 },
 "nbformat": 4,
 "nbformat_minor": 5
}

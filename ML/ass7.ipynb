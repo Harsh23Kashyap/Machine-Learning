{
 "cells": [
  {
   "cell_type": "code",
   "execution_count": 1,
   "id": "56fa2c16",
   "metadata": {},
   "outputs": [
    {
     "ename": "ModuleNotFoundError",
     "evalue": "No module named 'findspark'",
     "output_type": "error",
     "traceback": [
      "\u001b[0;31m---------------------------------------------------------------------------\u001b[0m",
      "\u001b[0;31mModuleNotFoundError\u001b[0m                       Traceback (most recent call last)",
      "\u001b[0;32m/var/folders/nw/sg4bm_b90x56cm49wkj9hd_h0000gp/T/ipykernel_1467/1921192606.py\u001b[0m in \u001b[0;36m<module>\u001b[0;34m\u001b[0m\n\u001b[1;32m      4\u001b[0m \u001b[0;34m\u001b[0m\u001b[0m\n\u001b[1;32m      5\u001b[0m \u001b[0;31m##Group1 Questions\u001b[0m\u001b[0;34m\u001b[0m\u001b[0;34m\u001b[0m\u001b[0m\n\u001b[0;32m----> 6\u001b[0;31m \u001b[0;32mimport\u001b[0m \u001b[0mfindspark\u001b[0m\u001b[0;34m\u001b[0m\u001b[0;34m\u001b[0m\u001b[0m\n\u001b[0m\u001b[1;32m      7\u001b[0m \u001b[0mfindspark\u001b[0m\u001b[0;34m.\u001b[0m\u001b[0minit\u001b[0m\u001b[0;34m(\u001b[0m\u001b[0;34m)\u001b[0m\u001b[0;34m\u001b[0m\u001b[0;34m\u001b[0m\u001b[0m\n",
      "\u001b[0;31mModuleNotFoundError\u001b[0m: No module named 'findspark'"
     ]
    }
   ],
   "source": [
    "## Name:Harbir Singh     RollNo : 101917050             Gru\n",
    "\n",
    "#1 ssarkar_phd20@thapar.edu  YourName_RollNo_Group \n",
    "\n",
    "##Group1 Questions\n",
    "import findspark\n",
    "findspark.init()"
   ]
  },
  {
   "cell_type": "code",
   "execution_count": 4,
   "id": "a7534084",
   "metadata": {},
   "outputs": [
    {
     "data": {
      "text/html": [
       "\n",
       "        <div>\n",
       "            <p><b>SparkContext</b></p>\n",
       "\n",
       "            <p><a href=\"http://DESKTOP-G8991TK:4040\">Spark UI</a></p>\n",
       "\n",
       "            <dl>\n",
       "              <dt>Version</dt>\n",
       "                <dd><code>v3.1.2</code></dd>\n",
       "              <dt>Master</dt>\n",
       "                <dd><code>local[1]</code></dd>\n",
       "              <dt>AppName</dt>\n",
       "                <dd><code>firstApp</code></dd>\n",
       "            </dl>\n",
       "        </div>\n",
       "        "
      ],
      "text/plain": [
       "<SparkContext master=local[1] appName=firstApp>"
      ]
     },
     "execution_count": 4,
     "metadata": {},
     "output_type": "execute_result"
    }
   ],
   "source": [
    "from pyspark.sql import SparkSession\n",
    "spark=SparkSession.builder.master(\"local[1]\").appName(\"firstApp\").getOrCreate()\n",
    "sc=spark.sparkContext\n",
    "sc"
   ]
  },
  {
   "cell_type": "code",
   "execution_count": 88,
   "id": "ea0da57a",
   "metadata": {},
   "outputs": [],
   "source": [
    "file=sc.textFile(\"t.txt\")"
   ]
  },
  {
   "cell_type": "code",
   "execution_count": 89,
   "id": "cc667127",
   "metadata": {},
   "outputs": [
    {
     "data": {
      "text/plain": [
       "['Harbir,20.21.22.23,HTTP,80',\n",
       " 'Abc, ,Telnet,23',\n",
       " 'xyz,150.25.26.68,FTP,9987',\n",
       " 'Qwe,50.50.6.87, ,23',\n",
       " 'Singh,22.21.22.23,HTTP,80']"
      ]
     },
     "execution_count": 89,
     "metadata": {},
     "output_type": "execute_result"
    }
   ],
   "source": [
    "file.take(5)"
   ]
  },
  {
   "cell_type": "code",
   "execution_count": 100,
   "id": "27b78ee0",
   "metadata": {},
   "outputs": [],
   "source": [
    "systems=file.filter(lambda x : x.split(\",\")[1]!=\" \").filter(lambda x : x.split(\",\")[3]!=\" \")"
   ]
  },
  {
   "cell_type": "code",
   "execution_count": 101,
   "id": "6b365c6a",
   "metadata": {},
   "outputs": [
    {
     "data": {
      "text/plain": [
       "['Harbir,20.21.22.23,HTTP,80',\n",
       " 'xyz,150.25.26.68,FTP,9987',\n",
       " 'Qwe,50.50.6.87, ,23',\n",
       " 'Singh,22.21.22.23,HTTP,80',\n",
       " 'Rty,151.25.26.68,FTP,9987',\n",
       " 'Suman,91.21.22.23,HTTP,80',\n",
       " 'Ajai,19.25.26.68, ,2370',\n",
       " 'Paul,49.50.6.87,HTTPS,81',\n",
       " 'Saurabh,20.21.22.23,HTTP,80',\n",
       " 'Sandhu,192.25.26.68,FTP,23',\n",
       " 'Bajwa,168.50.6.87,HTTPS,81',\n",
       " 'Sarkar,99.21.22.23, ,8081',\n",
       " 'Thapar,15.250.16.68,FTP,23']"
      ]
     },
     "execution_count": 101,
     "metadata": {},
     "output_type": "execute_result"
    }
   ],
   "source": [
    "systems.collect()"
   ]
  },
  {
   "cell_type": "code",
   "execution_count": 102,
   "id": "3eb01af9",
   "metadata": {},
   "outputs": [],
   "source": [
    "output1=systems2.map(lambda x:x.split(',')[0])"
   ]
  },
  {
   "cell_type": "code",
   "execution_count": 103,
   "id": "46f5cc0c",
   "metadata": {},
   "outputs": [
    {
     "name": "stdout",
     "output_type": "stream",
     "text": [
      "Q1:All Systems which have both  IPV4 and Port No. are :\n"
     ]
    },
    {
     "data": {
      "text/plain": [
       "['Harbir',\n",
       " 'xyz',\n",
       " 'Qwe',\n",
       " 'Singh',\n",
       " 'Rty',\n",
       " 'Suman',\n",
       " 'Ajai',\n",
       " 'Paul',\n",
       " 'Saurabh',\n",
       " 'Sandhu',\n",
       " 'Bajwa',\n",
       " 'Sarkar',\n",
       " 'Thapar']"
      ]
     },
     "execution_count": 103,
     "metadata": {},
     "output_type": "execute_result"
    }
   ],
   "source": [
    "print(\"Q1:All Systems which have both IPV4 and Port No. are :\")\n",
    "output1.collect()"
   ]
  },
  {
   "cell_type": "code",
   "execution_count": 91,
   "id": "84cd0865",
   "metadata": {},
   "outputs": [],
   "source": [
    "# q2data=file.map(lambda x:{x.split(\",\")[0]:x.split(\",\")[2]}).filter(lambda x:x.)\n",
    "# q2data=file.flatMap(lambda x: x.split(\",\")[0]+x.split(\",\")[2] )\n",
    "# q2data=file.filter(lambda x:x.split(',')[2]!=\" \").map(lambda x:{x.split(\",\")[0]:x.split(\",\")[2]})\n",
    "output2=file.filter(lambda x:x.split(',')[2]!=\" \").filter(lambda x:x.split(',')[3]!=\" \").map(lambda x:x.split(\",\")[0])"
   ]
  },
  {
   "cell_type": "code",
   "execution_count": 92,
   "id": "5c7e9003",
   "metadata": {},
   "outputs": [
    {
     "name": "stdout",
     "output_type": "stream",
     "text": [
      "Q2:All Systems with well defined ports are :\n"
     ]
    },
    {
     "data": {
      "text/plain": [
       "['Harbir',\n",
       " 'Abc',\n",
       " 'xyz',\n",
       " 'Singh',\n",
       " 'Def',\n",
       " 'Rty',\n",
       " 'Suman',\n",
       " 'Ghi',\n",
       " 'Paul',\n",
       " 'Saurabh',\n",
       " 'Sandhu',\n",
       " 'Bajwa',\n",
       " 'Mno',\n",
       " 'Thapar',\n",
       " 'Kunal']"
      ]
     },
     "execution_count": 92,
     "metadata": {},
     "output_type": "execute_result"
    }
   ],
   "source": [
    "print(\"Q2:All Systems with well defined ports are :\")\n",
    "output2.collect()"
   ]
  },
  {
   "cell_type": "code",
   "execution_count": 93,
   "id": "ee6251e1",
   "metadata": {},
   "outputs": [],
   "source": [
    "data=file.filter(lambda x:x.split(',')[2]!=\" \").filter(lambda x:x.split(',')[3]!=\" \")"
   ]
  },
  {
   "cell_type": "code",
   "execution_count": 116,
   "id": "4825ce4b",
   "metadata": {},
   "outputs": [],
   "source": [
    "# data.collect()"
   ]
  },
  {
   "cell_type": "code",
   "execution_count": 95,
   "id": "3c40907a",
   "metadata": {},
   "outputs": [],
   "source": [
    "data1=data.map(lambda x:[x.split(',')[0],x.split(',')[2],int(x.split(',')[3])])"
   ]
  },
  {
   "cell_type": "code",
   "execution_count": 96,
   "id": "4bdcdadd",
   "metadata": {},
   "outputs": [
    {
     "data": {
      "text/plain": [
       "[['Harbir', 'HTTP', 80],\n",
       " ['Abc', 'Telnet', 23],\n",
       " ['xyz', 'FTP', 9987],\n",
       " ['Singh', 'HTTP', 80],\n",
       " ['Def', 'Telnet', 23],\n",
       " ['Rty', 'FTP', 9987],\n",
       " ['Suman', 'HTTP', 80],\n",
       " ['Ghi', 'Telnet', 6583],\n",
       " ['Paul', 'HTTPS', 81],\n",
       " ['Saurabh', 'HTTP', 80],\n",
       " ['Sandhu', 'FTP', 23],\n",
       " ['Bajwa', 'HTTPS', 81],\n",
       " ['Mno', 'Telnet', 6483],\n",
       " ['Thapar', 'FTP', 23],\n",
       " ['Kunal', 'HTTPS', 82]]"
      ]
     },
     "execution_count": 96,
     "metadata": {},
     "output_type": "execute_result"
    }
   ],
   "source": [
    "data1.collect()"
   ]
  },
  {
   "cell_type": "code",
   "execution_count": 97,
   "id": "8747addc",
   "metadata": {},
   "outputs": [],
   "source": [
    "output3=data1.sortBy(lambda x:x[0])"
   ]
  },
  {
   "cell_type": "code",
   "execution_count": 99,
   "id": "1e8862bc",
   "metadata": {},
   "outputs": [
    {
     "name": "stdout",
     "output_type": "stream",
     "text": [
      "Q3: systems with well defined ports in ascending order(alphabetically) are :\n"
     ]
    },
    {
     "data": {
      "text/plain": [
       "[['Abc', 'Telnet', 23],\n",
       " ['Bajwa', 'HTTPS', 81],\n",
       " ['Def', 'Telnet', 23],\n",
       " ['Ghi', 'Telnet', 6583],\n",
       " ['Harbir', 'HTTP', 80],\n",
       " ['Kunal', 'HTTPS', 82],\n",
       " ['Mno', 'Telnet', 6483],\n",
       " ['Paul', 'HTTPS', 81],\n",
       " ['Rty', 'FTP', 9987],\n",
       " ['Sandhu', 'FTP', 23],\n",
       " ['Saurabh', 'HTTP', 80],\n",
       " ['Singh', 'HTTP', 80],\n",
       " ['Suman', 'HTTP', 80],\n",
       " ['Thapar', 'FTP', 23],\n",
       " ['xyz', 'FTP', 9987]]"
      ]
     },
     "execution_count": 99,
     "metadata": {},
     "output_type": "execute_result"
    }
   ],
   "source": [
    "print(\"Q3: systems with well defined ports in ascending order(alphabetically) are :\")\n",
    "output3.collect()"
   ]
  },
  {
   "cell_type": "code",
   "execution_count": null,
   "id": "6b1b89f7",
   "metadata": {},
   "outputs": [],
   "source": []
  }
 ],
 "metadata": {
  "interpreter": {
   "hash": "aee8b7b246df8f9039afb4144a1f6fd8d2ca17a180786b69acc140d282b71a49"
  },
  "kernelspec": {
   "display_name": "Python 3.9.7 64-bit",
   "name": "python3"
  },
  "language_info": {
   "codemirror_mode": {
    "name": "ipython",
    "version": 3
   },
   "file_extension": ".py",
   "mimetype": "text/x-python",
   "name": "python",
   "nbconvert_exporter": "python",
   "pygments_lexer": "ipython3",
   "version": "3.9.7"
  }
 },
 "nbformat": 4,
 "nbformat_minor": 5
}

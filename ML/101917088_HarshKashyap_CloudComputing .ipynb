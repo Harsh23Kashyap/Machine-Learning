{
  "nbformat": 4,
  "nbformat_minor": 0,
  "metadata": {
    "colab": {
      "name": "101917088_HarshKashyap_CloudComputing.ipynb",
      "provenance": []
    },
    "kernelspec": {
      "name": "python3",
      "display_name": "Python 3"
    },
    "language_info": {
      "name": "python"
    }
  },
  "cells": [
    {
      "cell_type": "markdown",
      "metadata": {
        "id": "q5x99ufMXXZU"
      },
      "source": [
        "### LAB EVALUATION"
      ]
    },
    {
      "cell_type": "markdown",
      "metadata": {
        "id": "lxZw_ZA4XDoH"
      },
      "source": [
        "# 101917088\n",
        "# Harsh Kashyap\n",
        "CSE4\n",
        "*Thapar Institute of Engineering and Technology*"
      ]
    },
    {
      "cell_type": "code",
      "metadata": {
        "colab": {
          "base_uri": "https://localhost:8080/"
        },
        "id": "G2zFAvMtUFSg",
        "outputId": "2dffddd6-2c8a-4223-d5f5-69f0f88a657b"
      },
      "source": [
        "!pip install pyspark\n",
        "!pip install findspark\n",
        "from pyspark.sql import SparkSession\n",
        "spark = SparkSession.builder.master(\"local[1]\").appName('FirstProgram').getOrCreate()\n",
        "sc=spark.sparkContext"
      ],
      "execution_count": null,
      "outputs": [
        {
          "output_type": "stream",
          "name": "stdout",
          "text": [
            "Collecting pyspark\n",
            "  Using cached pyspark-3.1.2.tar.gz (212.4 MB)\n",
            "Collecting py4j==0.10.9\n",
            "  Using cached py4j-0.10.9-py2.py3-none-any.whl (198 kB)\n",
            "Building wheels for collected packages: pyspark\n",
            "  Building wheel for pyspark (setup.py) ... \u001b[?25l\u001b[?25hdone\n",
            "  Created wheel for pyspark: filename=pyspark-3.1.2-py2.py3-none-any.whl size=212880768 sha256=4d3ed09d7a1cdb20f6cbb12288955ff9ba93080647e85433477352147c586db0\n",
            "  Stored in directory: /root/.cache/pip/wheels/a5/0a/c1/9561f6fecb759579a7d863dcd846daaa95f598744e71b02c77\n",
            "Successfully built pyspark\n",
            "Installing collected packages: py4j, pyspark\n",
            "Successfully installed py4j-0.10.9 pyspark-3.1.2\n",
            "Collecting findspark\n",
            "  Downloading findspark-1.4.2-py2.py3-none-any.whl (4.2 kB)\n",
            "Installing collected packages: findspark\n",
            "Successfully installed findspark-1.4.2\n"
          ]
        }
      ]
    },
    {
      "cell_type": "code",
      "metadata": {
        "id": "IZfo7okOUH4X"
      },
      "source": [
        "file=sc.textFile(\"t.txt\")"
      ],
      "execution_count": null,
      "outputs": []
    },
    {
      "cell_type": "code",
      "metadata": {
        "colab": {
          "base_uri": "https://localhost:8080/"
        },
        "id": "BG2UaFHIUcjA",
        "outputId": "2d31fe9f-91bb-4f57-cfa6-960d4142b807"
      },
      "source": [
        "file.collect()"
      ],
      "execution_count": null,
      "outputs": [
        {
          "output_type": "execute_result",
          "data": {
            "text/plain": [
              "['Harsh,20.21.22.23,HTTP,80',\n",
              " 'Bhavesh, ,Telnet,23',\n",
              " 'Prateek,150.125.26.68,FTP,9987',\n",
              " 'Kashyap,192.168.6.87, ,23',\n",
              " 'Singh,22.21.22.23,HTTP,80',\n",
              " 'Saurabh, ,Telnet,23',\n",
              " 'Megha,151.25.26.68,FTP,9987',\n",
              " 'Parth,49.50.6.87,HTTPS,81',\n",
              " 'Saurabh,120.21.22.23,HTTP,80',\n",
              " 'Iron, ,Telnet, ,',\n",
              " 'Jarvis,192.25.26.68,FTP,23',\n",
              " 'Pratha,168.50.6.87,HTTPS,81',\n",
              " 'Mausam,199.21.22.23, ,8081',\n",
              " 'Akhil, ,Telnet,6483',\n",
              " 'Yash,151.250.16.68,FTP,23',\n",
              " 'Thapar, ,HTTPS,82',\n",
              " 'Raghav,152.50.6.87,HTTPS, ,',\n",
              " 'OnePlus,91.21.22.23,HTTP,80',\n",
              " 'OneNord, ,Telnet,6583',\n",
              " 'Rahul,19.25.26.68, ,2370']"
            ]
          },
          "metadata": {},
          "execution_count": 10
        }
      ]
    },
    {
      "cell_type": "markdown",
      "metadata": {
        "id": "ROffFZRzWkzG"
      },
      "source": [
        "1. Sort all files by well defined port no.s"
      ]
    },
    {
      "cell_type": "code",
      "metadata": {
        "id": "ALmRoxJAVBwy"
      },
      "source": [
        "output1=file.filter(lambda x : x.split(\",\")[3]!=\" \").sortBy(lambda x:x[0]).map(lambda x:x.split(',')[0])"
      ],
      "execution_count": null,
      "outputs": []
    },
    {
      "cell_type": "code",
      "metadata": {
        "colab": {
          "base_uri": "https://localhost:8080/"
        },
        "id": "_dDpBdFlVs9y",
        "outputId": "0d5ee809-3c5e-4729-d4d3-23bb850336d8"
      },
      "source": [
        "output1.collect()"
      ],
      "execution_count": null,
      "outputs": [
        {
          "output_type": "execute_result",
          "data": {
            "text/plain": [
              "['Akhil',\n",
              " 'Bhavesh',\n",
              " 'Harsh',\n",
              " 'Jarvis',\n",
              " 'Kashyap',\n",
              " 'Megha',\n",
              " 'Mausam',\n",
              " 'OnePlus',\n",
              " 'OneNord',\n",
              " 'Prateek',\n",
              " 'Parth',\n",
              " 'Pratha',\n",
              " 'Rahul',\n",
              " 'Singh',\n",
              " 'Saurabh',\n",
              " 'Saurabh',\n",
              " 'Thapar',\n",
              " 'Yash']"
            ]
          },
          "metadata": {},
          "execution_count": 18
        }
      ]
    },
    {
      "cell_type": "markdown",
      "metadata": {
        "id": "4seQOleJWpfm"
      },
      "source": [
        "2. Find all systems those do not have any assigned IP address"
      ]
    },
    {
      "cell_type": "code",
      "metadata": {
        "id": "fgBty34NUd1p"
      },
      "source": [
        "output2=file.filter(lambda x : x.split(\",\")[1]==\" \").map(lambda x:x.split(',')[0])"
      ],
      "execution_count": null,
      "outputs": []
    },
    {
      "cell_type": "code",
      "metadata": {
        "colab": {
          "base_uri": "https://localhost:8080/"
        },
        "id": "eVcAy6nwUmZp",
        "outputId": "5c2acbe7-9049-4877-a695-2f9ac0caf2b9"
      },
      "source": [
        "output2.collect()"
      ],
      "execution_count": null,
      "outputs": [
        {
          "output_type": "execute_result",
          "data": {
            "text/plain": [
              "['Bhavesh', 'Saurabh', 'Iron', 'Akhil', 'Thapar', 'OneNord']"
            ]
          },
          "metadata": {},
          "execution_count": 12
        }
      ]
    },
    {
      "cell_type": "markdown",
      "metadata": {
        "id": "5HZZrEJ5WvRK"
      },
      "source": [
        "Find all system name which work on HTTP"
      ]
    },
    {
      "cell_type": "code",
      "metadata": {
        "id": "8XoKPTARUoq2"
      },
      "source": [
        "output3=file.filter(lambda x : x.split(\",\")[2]==\"HTTP\").map(lambda x:x.split(',')[0])"
      ],
      "execution_count": null,
      "outputs": []
    },
    {
      "cell_type": "code",
      "metadata": {
        "colab": {
          "base_uri": "https://localhost:8080/"
        },
        "id": "vH_3_UK0U_V2",
        "outputId": "1f7271d8-bda4-4fad-d35f-cd67f5641f5f"
      },
      "source": [
        "output3.collect()"
      ],
      "execution_count": null,
      "outputs": [
        {
          "output_type": "execute_result",
          "data": {
            "text/plain": [
              "['Harsh', 'Singh', 'Saurabh', 'OnePlus']"
            ]
          },
          "metadata": {},
          "execution_count": 14
        }
      ]
    },
    {
      "cell_type": "code",
      "metadata": {
        "id": "XQfkaQ5fVvPF"
      },
      "source": [
        ""
      ],
      "execution_count": null,
      "outputs": []
    }
  ]
}
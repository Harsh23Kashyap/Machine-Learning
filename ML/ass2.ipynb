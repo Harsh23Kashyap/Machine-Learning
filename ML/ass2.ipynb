{
 "cells": [
  {
   "cell_type": "markdown",
   "id": "1c7a1158",
   "metadata": {},
   "source": [
    "Assignment 5"
   ]
  },
  {
   "cell_type": "code",
   "execution_count": 1,
   "id": "c28a32af",
   "metadata": {},
   "outputs": [
    {
     "name": "stdout",
     "output_type": "stream",
     "text": [
      "The Number of Vowels in text file : 8\n"
     ]
    }
   ],
   "source": [
    "#q1\n",
    "file1 = open(\"text1.txt\", \"r\")\n",
    "str1 = file1.read()\n",
    "vowel_count =  0\n",
    "for i in str1:\n",
    "    if( i=='A' or i=='a' or i=='E' or i=='e' or i=='I'or i=='i' or i=='O' or i=='o'or i=='U' or i=='u'):\n",
    "        vowel_count +=1\n",
    "        \n",
    "\n",
    "print('The Number of Vowels in text file :', vowel_count)\n",
    "\n",
    "file1.close()"
   ]
  },
  {
   "cell_type": "code",
   "execution_count": 2,
   "id": "31eee0bd",
   "metadata": {},
   "outputs": [
    {
     "name": "stdout",
     "output_type": "stream",
     "text": [
      "qwertyuiop asdfg hjkl zxcvbn m iii\n",
      "qetuo sf jlzcb  i\n"
     ]
    }
   ],
   "source": [
    "#q2\n",
    "f=open(\"text1.txt\",\"r\")\n",
    "f1=open(\"text2.txt\",\"w\")\n",
    "str1=f.read()\n",
    "print(str1)\n",
    "for i in range(0,len(str1)):\n",
    "    if i%2==0:\n",
    "        f1.write(str1[i])\n",
    "    else:\n",
    "        pass\n",
    "f1.close()\n",
    "f1=open(\"text2.txt\",\"r\")\n",
    "st=f1.read()\n",
    "print(st)\n",
    "f1.close()\n",
    "f.close()\n"
   ]
  },
  {
   "cell_type": "code",
   "execution_count": 3,
   "id": "116683fc",
   "metadata": {},
   "outputs": [
    {
     "name": "stdout",
     "output_type": "stream",
     "text": [
      "['hello\\n', 'hi\\n', 'byegubhnkjmlbhy gjhbjnkmouvcxeswa4rextcfvgbhin fhghjhjkjnbuvgcdsarzdxfcghvj\\n', 'adios']\n",
      "hello\n",
      "byegubhnkjmlbhy gjhbjnkmouvcxeswa4rextcfvgbhin fhghjhjkjnbuvgcdsarzdxfcghvj\n",
      "\n"
     ]
    }
   ],
   "source": [
    "#q3\n",
    "f=open(\"text3.txt\",\"r\")\n",
    "f1=open(\"text4.txt\",\"w\")\n",
    "str1=f.readlines()\n",
    "print(str1)\n",
    "for i in range(0,len(str1)):\n",
    "    if i%2==0:\n",
    "        f1.write(str1[i])\n",
    "    else:\n",
    "        pass\n",
    "f1.close()\n",
    "f1=open(\"text4.txt\",\"r\")\n",
    "st=f1.read()\n",
    "print(st)\n",
    "f1.close()\n",
    "f.close()"
   ]
  },
  {
   "cell_type": "code",
   "execution_count": 4,
   "id": "95b403a5",
   "metadata": {},
   "outputs": [
    {
     "name": "stdout",
     "output_type": "stream",
     "text": [
      "['hello\\n', 'hi\\n', 'byegubhnkjmlbhy gjhbjnkmouvcxeswa4rextcfvgbhin fhghjhjkjnbuvgcdsarzdxfcghvj\\n', 'adios']\n",
      "byegubhnkjmlbhy gjhbjnkmouvcxeswa4rextcfvgbhin fhghjhjkjnbuvgcdsarzdxfcghvj\n",
      "\n"
     ]
    }
   ],
   "source": [
    "#q4\n",
    "f=open(\"text3.txt\",\"r\")\n",
    "f1=open(\"text4.txt\",\"w\")\n",
    "str1=f.readlines()\n",
    "print(str1)\n",
    "for i in range(0,len(str1)):\n",
    "    if len(str1[i])>50:\n",
    "        f1.write(str1[i])\n",
    "    else:\n",
    "        pass\n",
    "f1.close()\n",
    "f1=open(\"text4.txt\",\"r\")\n",
    "st=f1.read()\n",
    "print(st)\n",
    "f1.close()\n",
    "f.close()"
   ]
  },
  {
   "cell_type": "code",
   "execution_count": 5,
   "id": "34188adb",
   "metadata": {},
   "outputs": [
    {
     "name": "stdout",
     "output_type": "stream",
     "text": [
      "{'a': 4, 'b': 2, 'c': 3, 'd': 1}\n"
     ]
    },
    {
     "data": {
      "image/png": "[encoded data removed]",
      "text/plain": [
       "<Figure size 640x480 with 1 Axes>"
      ]
     },
     "metadata": {},
     "output_type": "display_data"
    }
   ],
   "source": [
    "#q5\n",
    "from matplotlib import pyplot as plt\n",
    "import numpy as np\n",
    "f=open(\"text5.txt\",\"r\")\n",
    "a=[]\n",
    "b={}\n",
    "for i in f:\n",
    "\n",
    "    for j in range(0,len(i)):\n",
    "\n",
    "        a.append(i[j])\n",
    "for i in a:\n",
    "    if i in b:\n",
    "        b[i]+=1\n",
    "    elif ord(i) >=97 and ord(i) <= 122 :\n",
    "        b[i]=1\n",
    "\n",
    "print(b)\n",
    "plt.bar([ str(i) for i in b.keys()], b.values(), color='g')    \n",
    "plt.show()"
   ]
  },
  {
   "cell_type": "code",
   "execution_count": 6,
   "id": "2228df1d",
   "metadata": {},
   "outputs": [
    {
     "name": "stdout",
     "output_type": "stream",
     "text": [
      "<class 'pandas.core.frame.DataFrame'>\n",
      "RangeIndex: 150 entries, 0 to 149\n",
      "Data columns (total 6 columns):\n",
      " #   Column         Non-Null Count  Dtype  \n",
      "---  ------         --------------  -----  \n",
      " 0   Id             150 non-null    int64  \n",
      " 1   SepalLengthCm  150 non-null    float64\n",
      " 2   SepalWidthCm   150 non-null    float64\n",
      " 3   PetalLengthCm  150 non-null    float64\n",
      " 4   PetalWidthCm   150 non-null    float64\n",
      " 5   Species        150 non-null    object \n",
      "dtypes: float64(4), int64(1), object(1)\n",
      "memory usage: 7.2+ KB\n"
     ]
    }
   ],
   "source": [
    "#q6\n",
    "import pandas as pd\n",
    "import numpy as np\n",
    "df=pd.read_csv(\"Iris.csv\")\n",
    "df.info()"
   ]
  },
  {
   "cell_type": "code",
   "execution_count": 16,
   "id": "9034978a",
   "metadata": {},
   "outputs": [
    {
     "name": "stdout",
     "output_type": "stream",
     "text": [
      "Mean of  SepalLengthCm is 5.843333333333334\n",
      "Median of  SepalLengthCm is 5.8\n",
      "Standard Deviation of  SepalLengthCm is 0.8253012917851408\n",
      "Mean of  SepalWidthCm is 3.0540000000000003\n",
      "Median of  SepalWidthCm is 3.0\n",
      "Standard Deviation of  SepalWidthCm is 0.43214658007054363\n",
      "Mean of  PetalLengthCm is 3.758666666666666\n",
      "Median of  PetalLengthCm is 4.3\n",
      "Standard Deviation of  PetalLengthCm is 1.7585291834055212\n",
      "Mean of  PetalWidthCm is 1.1986666666666668\n",
      "Median of  PetalWidthCm is 1.3\n",
      "Standard Deviation of  PetalWidthCm is 0.7606126185881718\n"
     ]
    }
   ],
   "source": [
    "col=df.columns\n",
    "for i in range(1,5):\n",
    "    m=df.sum()[i]/len(df)\n",
    "    print(\"Mean of \",col[i],\"is\",m)\n",
    "    a=df.sort_values(by=[col[i]])\n",
    "    print(\"Median of \",col[i],\"is\",a.iloc[74,i])\n",
    "    sum=0\n",
    "    for index,rows in df.iterrows():\n",
    "        sum+=(rows[col[i]]-m)**2\n",
    "    sum=sum/150\n",
    "    print(\"Standard Deviation of \",col[i],\"is\",np.sqrt(sum))\n",
    "        \n",
    "    \n"
   ]
  },
  {
   "cell_type": "code",
   "execution_count": null,
   "id": "7505130f",
   "metadata": {},
   "outputs": [],
   "source": []
  },
  {
   "cell_type": "code",
   "execution_count": 22,
   "id": "4529ef55",
   "metadata": {},
   "outputs": [
    {
     "name": "stdout",
     "output_type": "stream",
     "text": [
      "correlation of SepalLengthCm and SepalWidthCm is -0.10936924995064935\n",
      "correlation of SepalLengthCm and PetalLengthCm is 0.8717541573048712\n",
      "correlation of SepalLengthCm and PetalWidthCm is 0.8179536333691633\n",
      "correlation of SepalWidthCm and SepalLengthCm is -0.10936924995064935\n",
      "correlation of SepalWidthCm and PetalLengthCm is -0.42051609640115445\n",
      "correlation of SepalWidthCm and PetalWidthCm is -0.3565440896138059\n",
      "correlation of PetalLengthCm and SepalLengthCm is 0.8717541573048712\n",
      "correlation of PetalLengthCm and SepalWidthCm is -0.42051609640115445\n",
      "correlation of PetalLengthCm and PetalWidthCm is 0.9627570970509662\n",
      "correlation of PetalWidthCm and SepalLengthCm is 0.8179536333691633\n",
      "correlation of PetalWidthCm and SepalWidthCm is -0.3565440896138059\n",
      "correlation of PetalWidthCm and PetalLengthCm is 0.9627570970509662\n"
     ]
    }
   ],
   "source": [
    "# q7\n",
    "col=df.columns\n",
    "for i in range(1,5):\n",
    "    for j in range(1,5):\n",
    "        if i!=j :\n",
    "            m=(df.sum()[i]/len(df))\n",
    "            m1=(df.sum()[j]/len(df))\n",
    "            sum1=0\n",
    "            sum2=0\n",
    "            sum3=0\n",
    "            sum1=np.sum((df.iloc[:,i]-m)*(df.iloc[:,j]-m1))\n",
    "            sum2=np.sum((df.iloc[:,i]-m)**2)\n",
    "            sum3=np.sum((df.iloc[:,j]-m1)**2)\n",
    "            corr=sum1/(np.sqrt(sum2*sum3))\n",
    "            print(\"correlation of\",col[i],\"and\",col[j],\"is\",corr)\n",
    "                "
   ]
  },
  {
   "cell_type": "code",
   "execution_count": null,
   "id": "254f456d",
   "metadata": {},
   "outputs": [],
   "source": []
  },
  {
   "cell_type": "code",
   "execution_count": null,
   "id": "02bac81d",
   "metadata": {},
   "outputs": [],
   "source": []
  },
  {
   "cell_type": "code",
   "execution_count": null,
   "id": "6142acae",
   "metadata": {},
   "outputs": [],
   "source": []
  },
  {
   "cell_type": "code",
   "execution_count": null,
   "id": "c559ff75",
   "metadata": {},
   "outputs": [],
   "source": []
  }
 ],
 "metadata": {
  "kernelspec": {
   "display_name": "Python 3",
   "language": "python",
   "name": "python3"
  },
  "language_info": {
   "codemirror_mode": {
    "name": "ipython",
    "version": 3
   },
   "file_extension": ".py",
   "mimetype": "text/x-python",
   "name": "python",
   "nbconvert_exporter": "python",
   "pygments_lexer": "ipython3",
   "version": "3.8.11"
  }
 },
 "nbformat": 4,
 "nbformat_minor": 5
}

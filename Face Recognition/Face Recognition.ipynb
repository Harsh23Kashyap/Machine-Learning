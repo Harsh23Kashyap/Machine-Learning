{
 "cells": [
  {
   "cell_type": "code",
   "execution_count": 3,
   "id": "70b3943d-a2e3-4255-bf75-493f89f7274a",
   "metadata": {},
   "outputs": [],
   "source": [
    "import cv2\n",
    "import matplotlib.pyplot as plt\n",
    "import numpy as np\n",
    "import pandas as pd\n"
   ]
  },
  {
   "cell_type": "code",
   "execution_count": 2,
   "id": "0abf007e",
   "metadata": {},
   "outputs": [],
   "source": [
    "import numpy as np\n",
    "import cv2 \n",
    "import os\n"
   ]
  },
  {
   "cell_type": "code",
   "execution_count": 4,
   "id": "27753fd3",
   "metadata": {},
   "outputs": [],
   "source": [
    "def dist(x1,x2):\n",
    "      return np.sqrt(sum((x1-x2)**2))\n",
    "\n",
    "def knn(X,Y,k=10):\n",
    "  vals=[]\n",
    "  m=X.shape[0]\n",
    "\n",
    "  for i in range(m):\n",
    "    ix=X[i, :-1]\n",
    "    iy=X[i,-1]\n",
    "    d=dist(Y,ix)\n",
    "    vals.append((d,iy))\n",
    "\n",
    "  dk=sorted(vals,key=lambda x:x[0])[:k]\n",
    "  labels=np.array(dk)[:,-1]\n",
    "  output=np.unique(labels,return_counts=True)\n",
    "  index=np.argmax(output[1])\n",
    "  return output[0][index]"
   ]
  },
  {
   "cell_type": "code",
   "execution_count": null,
   "id": "b9f1bc86",
   "metadata": {},
   "outputs": [
    {
     "name": "stdout",
     "output_type": "stream",
     "text": [
      "(26, 30000)\n",
      "(26, 1)\n",
      "(26, 30001)\n"
     ]
    }
   ],
   "source": [
    "#Init Camera\n",
    "\n",
    "cap=cv2.VideoCapture(0)\n",
    "\n",
    "#Face Detection\n",
    "face_cascade=cv2.CascadeClassifier(\"haarcascade_frontalface_alt.xml\")\n",
    "skip=0\n",
    "dataset_path='/Users/harshkashyap/'\n",
    "\n",
    "face_data=[]\n",
    "label=[]\n",
    "\n",
    "class_id=0 #Labels for given file\n",
    "names = {} #Maoping between id name\n",
    "\n",
    "#Data Preperation\n",
    "for fx in os.listdir(dataset_path):\n",
    "    if fx.endswith('.npy'):\n",
    "        #creating a map id between class id and name\n",
    "        names[class_id]=fx[:-4]  #Harsh without .npy part\n",
    "        data_item = np.load(dataset_path+fx)\n",
    "        face_data.append(data_item)\n",
    "        \n",
    "        \n",
    "        #Create labels for class\n",
    "        target= class_id*np.ones((data_item.shape[0],))\n",
    "        class_id +=1\n",
    "        label.append(target)\n",
    "    \n",
    "face_dataset = np.concatenate(face_data,axis=0)\n",
    "face_labels = np.concatenate(label,axis=0).reshape((-1,1))\n",
    "\n",
    "print(face_dataset.shape)\n",
    "print(face_labels.shape)\n",
    "\n",
    "trainset=np.concatenate((face_dataset,face_labels),axis=1)\n",
    "print(trainset.shape)\n",
    "        \n",
    "        \n",
    "        \n",
    "        \n",
    "        \n",
    "#testing part\n",
    "while True:\n",
    "    ret,frame= cap.read()\n",
    "    if ret==False:\n",
    "        continue\n",
    "    faces=face_cascade.detectMultiScale(frame,1.3,5)\n",
    "    \n",
    "    for face in faces:\n",
    "        x,y,w,h= face\n",
    "        \n",
    "        #get the face ROI\n",
    "        offset=10\n",
    "        face_section=frame[y-offset:y+h+offset,x-offset:x+w+offset]\n",
    "        face_section=cv2.resize(face_section,(100,100))\n",
    "        \n",
    "        #Predicted output\n",
    "        out=knn(trainset,face_section.flatten())\n",
    "        \n",
    "        #display on the screen name and rectange around it \n",
    "        pred_name=names[int(out)]\n",
    "        cv2.putText(frame,pred_name,(x,y-10),cv2.FONT_HERSHEY_SIMPLEX,1,(255,0,0),2,cv2.LINE_AA)\n",
    "        cv2.rectangle(frame,(x,y),(x+h,y+w),(0,255,255),2)\n",
    "    \n",
    "    cv2.imshow(\"Faces \",frame)\n",
    "    \n",
    "    key= cv2.waitKey(1) & 0xFF\n",
    "    if (key == ord('q')):\n",
    "        break\n",
    "    \n",
    "cap.release()\n",
    "for i in range (1,3):\n",
    "    cv2.destroyAllWindows()\n",
    "    cv2.waitKey(1)"
   ]
  },
  {
   "cell_type": "code",
   "execution_count": null,
   "id": "556b3a39-aa2d-45b9-80a1-5515dceba39c",
   "metadata": {},
   "outputs": [],
   "source": []
  }
 ],
 "metadata": {
  "kernelspec": {
   "display_name": "Python 3 (ipykernel)",
   "language": "python",
   "name": "python3"
  },
  "language_info": {
   "codemirror_mode": {
    "name": "ipython",
    "version": 3
   },
   "file_extension": ".py",
   "mimetype": "text/x-python",
   "name": "python",
   "nbconvert_exporter": "python",
   "pygments_lexer": "ipython3",
   "version": "3.9.7"
  }
 },
 "nbformat": 4,
 "nbformat_minor": 5
}
